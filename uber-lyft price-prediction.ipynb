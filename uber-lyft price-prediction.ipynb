{
 "cells": [
  {
   "cell_type": "markdown",
   "id": "2ff04679",
   "metadata": {},
   "source": [
    "# Uber and lyft price Prediction"
   ]
  },
  {
   "cell_type": "markdown",
   "id": "76067dd5",
   "metadata": {},
   "source": [
    "- I will analyze to understand the factors affecting the dynamic pricing for Uber and Lyft . Using Machine Learning Algorithms to predict the determining factors that lead to surge pricing.\n",
    "\n",
    "- The datasets used in this project have been imported from Kaggle with two files.\n",
    "- The First is **cab_rides** which contains   693071 rows× 8 columns, and the Second is **weather contains** 6276 rows × 8 columns\n"
   ]
  },
  {
   "cell_type": "markdown",
   "id": "023556bf",
   "metadata": {},
   "source": [
    "## import libraies "
   ]
  },
  {
   "cell_type": "code",
   "execution_count": 1117,
   "id": "671b2538",
   "metadata": {},
   "outputs": [],
   "source": [
    "import matplotlib.pyplot as plt\n",
    "import numpy as np\n",
    "import pandas as pd\n",
    "import seaborn as sns\n",
    "from datetime import datetime\n",
    "from sklearn import datasets\n",
    "from sklearn.model_selection import train_test_split\n",
    "from sklearn.linear_model import LinearRegression\n",
    "from sklearn.datasets import make_classification"
   ]
  },
  {
   "cell_type": "markdown",
   "id": "f1d782b0",
   "metadata": {},
   "source": [
    "## Load the dataset "
   ]
  },
  {
   "cell_type": "code",
   "execution_count": 1118,
   "id": "9ef9edc9",
   "metadata": {},
   "outputs": [],
   "source": [
    "data = pd.read_csv('cab_rides.csv')\n",
    "data2=pd.read_csv('weather.csv')"
   ]
  },
  {
   "cell_type": "code",
   "execution_count": 1119,
   "id": "1b037135",
   "metadata": {},
   "outputs": [
    {
     "data": {
      "text/html": [
       "<div>\n",
       "<style scoped>\n",
       "    .dataframe tbody tr th:only-of-type {\n",
       "        vertical-align: middle;\n",
       "    }\n",
       "\n",
       "    .dataframe tbody tr th {\n",
       "        vertical-align: top;\n",
       "    }\n",
       "\n",
       "    .dataframe thead th {\n",
       "        text-align: right;\n",
       "    }\n",
       "</style>\n",
       "<table border=\"1\" class=\"dataframe\">\n",
       "  <thead>\n",
       "    <tr style=\"text-align: right;\">\n",
       "      <th></th>\n",
       "      <th>distance</th>\n",
       "      <th>cab_type</th>\n",
       "      <th>time_stamp</th>\n",
       "      <th>destination</th>\n",
       "      <th>source</th>\n",
       "      <th>price</th>\n",
       "      <th>surge_multiplier</th>\n",
       "      <th>id</th>\n",
       "      <th>product_id</th>\n",
       "      <th>name</th>\n",
       "    </tr>\n",
       "  </thead>\n",
       "  <tbody>\n",
       "    <tr>\n",
       "      <th>0</th>\n",
       "      <td>0.44</td>\n",
       "      <td>Lyft</td>\n",
       "      <td>1544952607890</td>\n",
       "      <td>North Station</td>\n",
       "      <td>Haymarket Square</td>\n",
       "      <td>5.0</td>\n",
       "      <td>1.0</td>\n",
       "      <td>424553bb-7174-41ea-aeb4-fe06d4f4b9d7</td>\n",
       "      <td>lyft_line</td>\n",
       "      <td>Shared</td>\n",
       "    </tr>\n",
       "    <tr>\n",
       "      <th>1</th>\n",
       "      <td>0.44</td>\n",
       "      <td>Lyft</td>\n",
       "      <td>1543284023677</td>\n",
       "      <td>North Station</td>\n",
       "      <td>Haymarket Square</td>\n",
       "      <td>11.0</td>\n",
       "      <td>1.0</td>\n",
       "      <td>4bd23055-6827-41c6-b23b-3c491f24e74d</td>\n",
       "      <td>lyft_premier</td>\n",
       "      <td>Lux</td>\n",
       "    </tr>\n",
       "    <tr>\n",
       "      <th>2</th>\n",
       "      <td>0.44</td>\n",
       "      <td>Lyft</td>\n",
       "      <td>1543366822198</td>\n",
       "      <td>North Station</td>\n",
       "      <td>Haymarket Square</td>\n",
       "      <td>7.0</td>\n",
       "      <td>1.0</td>\n",
       "      <td>981a3613-77af-4620-a42a-0c0866077d1e</td>\n",
       "      <td>lyft</td>\n",
       "      <td>Lyft</td>\n",
       "    </tr>\n",
       "    <tr>\n",
       "      <th>3</th>\n",
       "      <td>0.44</td>\n",
       "      <td>Lyft</td>\n",
       "      <td>1543553582749</td>\n",
       "      <td>North Station</td>\n",
       "      <td>Haymarket Square</td>\n",
       "      <td>26.0</td>\n",
       "      <td>1.0</td>\n",
       "      <td>c2d88af2-d278-4bfd-a8d0-29ca77cc5512</td>\n",
       "      <td>lyft_luxsuv</td>\n",
       "      <td>Lux Black XL</td>\n",
       "    </tr>\n",
       "    <tr>\n",
       "      <th>4</th>\n",
       "      <td>0.44</td>\n",
       "      <td>Lyft</td>\n",
       "      <td>1543463360223</td>\n",
       "      <td>North Station</td>\n",
       "      <td>Haymarket Square</td>\n",
       "      <td>9.0</td>\n",
       "      <td>1.0</td>\n",
       "      <td>e0126e1f-8ca9-4f2e-82b3-50505a09db9a</td>\n",
       "      <td>lyft_plus</td>\n",
       "      <td>Lyft XL</td>\n",
       "    </tr>\n",
       "    <tr>\n",
       "      <th>...</th>\n",
       "      <td>...</td>\n",
       "      <td>...</td>\n",
       "      <td>...</td>\n",
       "      <td>...</td>\n",
       "      <td>...</td>\n",
       "      <td>...</td>\n",
       "      <td>...</td>\n",
       "      <td>...</td>\n",
       "      <td>...</td>\n",
       "      <td>...</td>\n",
       "    </tr>\n",
       "    <tr>\n",
       "      <th>693066</th>\n",
       "      <td>1.00</td>\n",
       "      <td>Uber</td>\n",
       "      <td>1543708385534</td>\n",
       "      <td>North End</td>\n",
       "      <td>West End</td>\n",
       "      <td>13.0</td>\n",
       "      <td>1.0</td>\n",
       "      <td>616d3611-1820-450a-9845-a9ff304a4842</td>\n",
       "      <td>6f72dfc5-27f1-42e8-84db-ccc7a75f6969</td>\n",
       "      <td>UberXL</td>\n",
       "    </tr>\n",
       "    <tr>\n",
       "      <th>693067</th>\n",
       "      <td>1.00</td>\n",
       "      <td>Uber</td>\n",
       "      <td>1543708385534</td>\n",
       "      <td>North End</td>\n",
       "      <td>West End</td>\n",
       "      <td>9.5</td>\n",
       "      <td>1.0</td>\n",
       "      <td>633a3fc3-1f86-4b9e-9d48-2b7132112341</td>\n",
       "      <td>55c66225-fbe7-4fd5-9072-eab1ece5e23e</td>\n",
       "      <td>UberX</td>\n",
       "    </tr>\n",
       "    <tr>\n",
       "      <th>693068</th>\n",
       "      <td>1.00</td>\n",
       "      <td>Uber</td>\n",
       "      <td>1543708385534</td>\n",
       "      <td>North End</td>\n",
       "      <td>West End</td>\n",
       "      <td>NaN</td>\n",
       "      <td>1.0</td>\n",
       "      <td>64d451d0-639f-47a4-9b7c-6fd92fbd264f</td>\n",
       "      <td>8cf7e821-f0d3-49c6-8eba-e679c0ebcf6a</td>\n",
       "      <td>Taxi</td>\n",
       "    </tr>\n",
       "    <tr>\n",
       "      <th>693069</th>\n",
       "      <td>1.00</td>\n",
       "      <td>Uber</td>\n",
       "      <td>1543708385534</td>\n",
       "      <td>North End</td>\n",
       "      <td>West End</td>\n",
       "      <td>27.0</td>\n",
       "      <td>1.0</td>\n",
       "      <td>727e5f07-a96b-4ad1-a2c7-9abc3ad55b4e</td>\n",
       "      <td>6d318bcc-22a3-4af6-bddd-b409bfce1546</td>\n",
       "      <td>Black SUV</td>\n",
       "    </tr>\n",
       "    <tr>\n",
       "      <th>693070</th>\n",
       "      <td>1.00</td>\n",
       "      <td>Uber</td>\n",
       "      <td>1543708385534</td>\n",
       "      <td>North End</td>\n",
       "      <td>West End</td>\n",
       "      <td>10.0</td>\n",
       "      <td>1.0</td>\n",
       "      <td>e7fdc087-fe86-40a5-a3c3-3b2a8badcbda</td>\n",
       "      <td>997acbb5-e102-41e1-b155-9df7de0a73f2</td>\n",
       "      <td>UberPool</td>\n",
       "    </tr>\n",
       "  </tbody>\n",
       "</table>\n",
       "<p>693071 rows × 10 columns</p>\n",
       "</div>"
      ],
      "text/plain": [
       "        distance cab_type     time_stamp    destination            source  \\\n",
       "0           0.44     Lyft  1544952607890  North Station  Haymarket Square   \n",
       "1           0.44     Lyft  1543284023677  North Station  Haymarket Square   \n",
       "2           0.44     Lyft  1543366822198  North Station  Haymarket Square   \n",
       "3           0.44     Lyft  1543553582749  North Station  Haymarket Square   \n",
       "4           0.44     Lyft  1543463360223  North Station  Haymarket Square   \n",
       "...          ...      ...            ...            ...               ...   \n",
       "693066      1.00     Uber  1543708385534      North End          West End   \n",
       "693067      1.00     Uber  1543708385534      North End          West End   \n",
       "693068      1.00     Uber  1543708385534      North End          West End   \n",
       "693069      1.00     Uber  1543708385534      North End          West End   \n",
       "693070      1.00     Uber  1543708385534      North End          West End   \n",
       "\n",
       "        price  surge_multiplier                                    id  \\\n",
       "0         5.0               1.0  424553bb-7174-41ea-aeb4-fe06d4f4b9d7   \n",
       "1        11.0               1.0  4bd23055-6827-41c6-b23b-3c491f24e74d   \n",
       "2         7.0               1.0  981a3613-77af-4620-a42a-0c0866077d1e   \n",
       "3        26.0               1.0  c2d88af2-d278-4bfd-a8d0-29ca77cc5512   \n",
       "4         9.0               1.0  e0126e1f-8ca9-4f2e-82b3-50505a09db9a   \n",
       "...       ...               ...                                   ...   \n",
       "693066   13.0               1.0  616d3611-1820-450a-9845-a9ff304a4842   \n",
       "693067    9.5               1.0  633a3fc3-1f86-4b9e-9d48-2b7132112341   \n",
       "693068    NaN               1.0  64d451d0-639f-47a4-9b7c-6fd92fbd264f   \n",
       "693069   27.0               1.0  727e5f07-a96b-4ad1-a2c7-9abc3ad55b4e   \n",
       "693070   10.0               1.0  e7fdc087-fe86-40a5-a3c3-3b2a8badcbda   \n",
       "\n",
       "                                  product_id          name  \n",
       "0                                  lyft_line        Shared  \n",
       "1                               lyft_premier           Lux  \n",
       "2                                       lyft          Lyft  \n",
       "3                                lyft_luxsuv  Lux Black XL  \n",
       "4                                  lyft_plus       Lyft XL  \n",
       "...                                      ...           ...  \n",
       "693066  6f72dfc5-27f1-42e8-84db-ccc7a75f6969        UberXL  \n",
       "693067  55c66225-fbe7-4fd5-9072-eab1ece5e23e         UberX  \n",
       "693068  8cf7e821-f0d3-49c6-8eba-e679c0ebcf6a          Taxi  \n",
       "693069  6d318bcc-22a3-4af6-bddd-b409bfce1546     Black SUV  \n",
       "693070  997acbb5-e102-41e1-b155-9df7de0a73f2      UberPool  \n",
       "\n",
       "[693071 rows x 10 columns]"
      ]
     },
     "execution_count": 1119,
     "metadata": {},
     "output_type": "execute_result"
    }
   ],
   "source": [
    "data"
   ]
  },
  {
   "cell_type": "code",
   "execution_count": 1120,
   "id": "a349fa4e",
   "metadata": {},
   "outputs": [
    {
     "data": {
      "text/html": [
       "<div>\n",
       "<style scoped>\n",
       "    .dataframe tbody tr th:only-of-type {\n",
       "        vertical-align: middle;\n",
       "    }\n",
       "\n",
       "    .dataframe tbody tr th {\n",
       "        vertical-align: top;\n",
       "    }\n",
       "\n",
       "    .dataframe thead th {\n",
       "        text-align: right;\n",
       "    }\n",
       "</style>\n",
       "<table border=\"1\" class=\"dataframe\">\n",
       "  <thead>\n",
       "    <tr style=\"text-align: right;\">\n",
       "      <th></th>\n",
       "      <th>temp</th>\n",
       "      <th>location</th>\n",
       "      <th>clouds</th>\n",
       "      <th>pressure</th>\n",
       "      <th>rain</th>\n",
       "      <th>time_stamp</th>\n",
       "      <th>humidity</th>\n",
       "      <th>wind</th>\n",
       "    </tr>\n",
       "  </thead>\n",
       "  <tbody>\n",
       "    <tr>\n",
       "      <th>0</th>\n",
       "      <td>42.42</td>\n",
       "      <td>Back Bay</td>\n",
       "      <td>1.00</td>\n",
       "      <td>1012.14</td>\n",
       "      <td>0.1228</td>\n",
       "      <td>1545003901</td>\n",
       "      <td>0.77</td>\n",
       "      <td>11.25</td>\n",
       "    </tr>\n",
       "    <tr>\n",
       "      <th>1</th>\n",
       "      <td>42.43</td>\n",
       "      <td>Beacon Hill</td>\n",
       "      <td>1.00</td>\n",
       "      <td>1012.15</td>\n",
       "      <td>0.1846</td>\n",
       "      <td>1545003901</td>\n",
       "      <td>0.76</td>\n",
       "      <td>11.32</td>\n",
       "    </tr>\n",
       "    <tr>\n",
       "      <th>2</th>\n",
       "      <td>42.50</td>\n",
       "      <td>Boston University</td>\n",
       "      <td>1.00</td>\n",
       "      <td>1012.15</td>\n",
       "      <td>0.1089</td>\n",
       "      <td>1545003901</td>\n",
       "      <td>0.76</td>\n",
       "      <td>11.07</td>\n",
       "    </tr>\n",
       "    <tr>\n",
       "      <th>3</th>\n",
       "      <td>42.11</td>\n",
       "      <td>Fenway</td>\n",
       "      <td>1.00</td>\n",
       "      <td>1012.13</td>\n",
       "      <td>0.0969</td>\n",
       "      <td>1545003901</td>\n",
       "      <td>0.77</td>\n",
       "      <td>11.09</td>\n",
       "    </tr>\n",
       "    <tr>\n",
       "      <th>4</th>\n",
       "      <td>43.13</td>\n",
       "      <td>Financial District</td>\n",
       "      <td>1.00</td>\n",
       "      <td>1012.14</td>\n",
       "      <td>0.1786</td>\n",
       "      <td>1545003901</td>\n",
       "      <td>0.75</td>\n",
       "      <td>11.49</td>\n",
       "    </tr>\n",
       "    <tr>\n",
       "      <th>...</th>\n",
       "      <td>...</td>\n",
       "      <td>...</td>\n",
       "      <td>...</td>\n",
       "      <td>...</td>\n",
       "      <td>...</td>\n",
       "      <td>...</td>\n",
       "      <td>...</td>\n",
       "      <td>...</td>\n",
       "    </tr>\n",
       "    <tr>\n",
       "      <th>6271</th>\n",
       "      <td>44.72</td>\n",
       "      <td>North Station</td>\n",
       "      <td>0.89</td>\n",
       "      <td>1000.69</td>\n",
       "      <td>NaN</td>\n",
       "      <td>1543819974</td>\n",
       "      <td>0.96</td>\n",
       "      <td>1.52</td>\n",
       "    </tr>\n",
       "    <tr>\n",
       "      <th>6272</th>\n",
       "      <td>44.85</td>\n",
       "      <td>Northeastern University</td>\n",
       "      <td>0.88</td>\n",
       "      <td>1000.71</td>\n",
       "      <td>NaN</td>\n",
       "      <td>1543819974</td>\n",
       "      <td>0.96</td>\n",
       "      <td>1.54</td>\n",
       "    </tr>\n",
       "    <tr>\n",
       "      <th>6273</th>\n",
       "      <td>44.82</td>\n",
       "      <td>South Station</td>\n",
       "      <td>0.89</td>\n",
       "      <td>1000.70</td>\n",
       "      <td>NaN</td>\n",
       "      <td>1543819974</td>\n",
       "      <td>0.96</td>\n",
       "      <td>1.54</td>\n",
       "    </tr>\n",
       "    <tr>\n",
       "      <th>6274</th>\n",
       "      <td>44.78</td>\n",
       "      <td>Theatre District</td>\n",
       "      <td>0.89</td>\n",
       "      <td>1000.70</td>\n",
       "      <td>NaN</td>\n",
       "      <td>1543819974</td>\n",
       "      <td>0.96</td>\n",
       "      <td>1.54</td>\n",
       "    </tr>\n",
       "    <tr>\n",
       "      <th>6275</th>\n",
       "      <td>44.69</td>\n",
       "      <td>West End</td>\n",
       "      <td>0.89</td>\n",
       "      <td>1000.70</td>\n",
       "      <td>NaN</td>\n",
       "      <td>1543819974</td>\n",
       "      <td>0.96</td>\n",
       "      <td>1.52</td>\n",
       "    </tr>\n",
       "  </tbody>\n",
       "</table>\n",
       "<p>6276 rows × 8 columns</p>\n",
       "</div>"
      ],
      "text/plain": [
       "       temp                 location  clouds  pressure    rain  time_stamp  \\\n",
       "0     42.42                 Back Bay    1.00   1012.14  0.1228  1545003901   \n",
       "1     42.43              Beacon Hill    1.00   1012.15  0.1846  1545003901   \n",
       "2     42.50        Boston University    1.00   1012.15  0.1089  1545003901   \n",
       "3     42.11                   Fenway    1.00   1012.13  0.0969  1545003901   \n",
       "4     43.13       Financial District    1.00   1012.14  0.1786  1545003901   \n",
       "...     ...                      ...     ...       ...     ...         ...   \n",
       "6271  44.72            North Station    0.89   1000.69     NaN  1543819974   \n",
       "6272  44.85  Northeastern University    0.88   1000.71     NaN  1543819974   \n",
       "6273  44.82            South Station    0.89   1000.70     NaN  1543819974   \n",
       "6274  44.78         Theatre District    0.89   1000.70     NaN  1543819974   \n",
       "6275  44.69                 West End    0.89   1000.70     NaN  1543819974   \n",
       "\n",
       "      humidity   wind  \n",
       "0         0.77  11.25  \n",
       "1         0.76  11.32  \n",
       "2         0.76  11.07  \n",
       "3         0.77  11.09  \n",
       "4         0.75  11.49  \n",
       "...        ...    ...  \n",
       "6271      0.96   1.52  \n",
       "6272      0.96   1.54  \n",
       "6273      0.96   1.54  \n",
       "6274      0.96   1.54  \n",
       "6275      0.96   1.52  \n",
       "\n",
       "[6276 rows x 8 columns]"
      ]
     },
     "execution_count": 1120,
     "metadata": {},
     "output_type": "execute_result"
    }
   ],
   "source": [
    "data2"
   ]
  },
  {
   "cell_type": "code",
   "execution_count": 1121,
   "id": "e836ec67",
   "metadata": {},
   "outputs": [
    {
     "name": "stdout",
     "output_type": "stream",
     "text": [
      "<class 'pandas.core.frame.DataFrame'>\n",
      "RangeIndex: 693071 entries, 0 to 693070\n",
      "Data columns (total 10 columns):\n",
      " #   Column            Non-Null Count   Dtype  \n",
      "---  ------            --------------   -----  \n",
      " 0   distance          693071 non-null  float64\n",
      " 1   cab_type          693071 non-null  object \n",
      " 2   time_stamp        693071 non-null  int64  \n",
      " 3   destination       693071 non-null  object \n",
      " 4   source            693071 non-null  object \n",
      " 5   price             637976 non-null  float64\n",
      " 6   surge_multiplier  693071 non-null  float64\n",
      " 7   id                693071 non-null  object \n",
      " 8   product_id        693071 non-null  object \n",
      " 9   name              693071 non-null  object \n",
      "dtypes: float64(3), int64(1), object(6)\n",
      "memory usage: 52.9+ MB\n"
     ]
    }
   ],
   "source": [
    "data.info() # Make sure of that column name changed correctly and also datatype."
   ]
  },
  {
   "cell_type": "markdown",
   "id": "9113cc29",
   "metadata": {},
   "source": [
    "- This shows that we have 10 columns in total besides index, and we have 693070 record.\n",
    "- None of the data fields have NULL values.\n"
   ]
  },
  {
   "cell_type": "code",
   "execution_count": 1122,
   "id": "245d8630",
   "metadata": {},
   "outputs": [
    {
     "data": {
      "text/plain": [
       "Index(['distance', 'cab_type', 'time_stamp', 'destination', 'source', 'price',\n",
       "       'surge_multiplier', 'id', 'product_id', 'name'],\n",
       "      dtype='object')"
      ]
     },
     "execution_count": 1122,
     "metadata": {},
     "output_type": "execute_result"
    }
   ],
   "source": [
    "data.columns #show the features in cab_rides dataset"
   ]
  },
  {
   "cell_type": "code",
   "execution_count": 1123,
   "id": "b016b39c",
   "metadata": {},
   "outputs": [
    {
     "data": {
      "text/html": [
       "<div>\n",
       "<style scoped>\n",
       "    .dataframe tbody tr th:only-of-type {\n",
       "        vertical-align: middle;\n",
       "    }\n",
       "\n",
       "    .dataframe tbody tr th {\n",
       "        vertical-align: top;\n",
       "    }\n",
       "\n",
       "    .dataframe thead th {\n",
       "        text-align: right;\n",
       "    }\n",
       "</style>\n",
       "<table border=\"1\" class=\"dataframe\">\n",
       "  <thead>\n",
       "    <tr style=\"text-align: right;\">\n",
       "      <th></th>\n",
       "      <th>distance</th>\n",
       "      <th>cab_type</th>\n",
       "      <th>time_stamp</th>\n",
       "      <th>destination</th>\n",
       "      <th>source</th>\n",
       "      <th>price</th>\n",
       "      <th>surge_multiplier</th>\n",
       "      <th>id</th>\n",
       "      <th>product_id</th>\n",
       "      <th>name</th>\n",
       "    </tr>\n",
       "  </thead>\n",
       "  <tbody>\n",
       "    <tr>\n",
       "      <th>693066</th>\n",
       "      <td>1.0</td>\n",
       "      <td>Uber</td>\n",
       "      <td>1543708385534</td>\n",
       "      <td>North End</td>\n",
       "      <td>West End</td>\n",
       "      <td>13.0</td>\n",
       "      <td>1.0</td>\n",
       "      <td>616d3611-1820-450a-9845-a9ff304a4842</td>\n",
       "      <td>6f72dfc5-27f1-42e8-84db-ccc7a75f6969</td>\n",
       "      <td>UberXL</td>\n",
       "    </tr>\n",
       "    <tr>\n",
       "      <th>693067</th>\n",
       "      <td>1.0</td>\n",
       "      <td>Uber</td>\n",
       "      <td>1543708385534</td>\n",
       "      <td>North End</td>\n",
       "      <td>West End</td>\n",
       "      <td>9.5</td>\n",
       "      <td>1.0</td>\n",
       "      <td>633a3fc3-1f86-4b9e-9d48-2b7132112341</td>\n",
       "      <td>55c66225-fbe7-4fd5-9072-eab1ece5e23e</td>\n",
       "      <td>UberX</td>\n",
       "    </tr>\n",
       "    <tr>\n",
       "      <th>693068</th>\n",
       "      <td>1.0</td>\n",
       "      <td>Uber</td>\n",
       "      <td>1543708385534</td>\n",
       "      <td>North End</td>\n",
       "      <td>West End</td>\n",
       "      <td>NaN</td>\n",
       "      <td>1.0</td>\n",
       "      <td>64d451d0-639f-47a4-9b7c-6fd92fbd264f</td>\n",
       "      <td>8cf7e821-f0d3-49c6-8eba-e679c0ebcf6a</td>\n",
       "      <td>Taxi</td>\n",
       "    </tr>\n",
       "    <tr>\n",
       "      <th>693069</th>\n",
       "      <td>1.0</td>\n",
       "      <td>Uber</td>\n",
       "      <td>1543708385534</td>\n",
       "      <td>North End</td>\n",
       "      <td>West End</td>\n",
       "      <td>27.0</td>\n",
       "      <td>1.0</td>\n",
       "      <td>727e5f07-a96b-4ad1-a2c7-9abc3ad55b4e</td>\n",
       "      <td>6d318bcc-22a3-4af6-bddd-b409bfce1546</td>\n",
       "      <td>Black SUV</td>\n",
       "    </tr>\n",
       "    <tr>\n",
       "      <th>693070</th>\n",
       "      <td>1.0</td>\n",
       "      <td>Uber</td>\n",
       "      <td>1543708385534</td>\n",
       "      <td>North End</td>\n",
       "      <td>West End</td>\n",
       "      <td>10.0</td>\n",
       "      <td>1.0</td>\n",
       "      <td>e7fdc087-fe86-40a5-a3c3-3b2a8badcbda</td>\n",
       "      <td>997acbb5-e102-41e1-b155-9df7de0a73f2</td>\n",
       "      <td>UberPool</td>\n",
       "    </tr>\n",
       "  </tbody>\n",
       "</table>\n",
       "</div>"
      ],
      "text/plain": [
       "        distance cab_type     time_stamp destination    source  price  \\\n",
       "693066       1.0     Uber  1543708385534   North End  West End   13.0   \n",
       "693067       1.0     Uber  1543708385534   North End  West End    9.5   \n",
       "693068       1.0     Uber  1543708385534   North End  West End    NaN   \n",
       "693069       1.0     Uber  1543708385534   North End  West End   27.0   \n",
       "693070       1.0     Uber  1543708385534   North End  West End   10.0   \n",
       "\n",
       "        surge_multiplier                                    id  \\\n",
       "693066               1.0  616d3611-1820-450a-9845-a9ff304a4842   \n",
       "693067               1.0  633a3fc3-1f86-4b9e-9d48-2b7132112341   \n",
       "693068               1.0  64d451d0-639f-47a4-9b7c-6fd92fbd264f   \n",
       "693069               1.0  727e5f07-a96b-4ad1-a2c7-9abc3ad55b4e   \n",
       "693070               1.0  e7fdc087-fe86-40a5-a3c3-3b2a8badcbda   \n",
       "\n",
       "                                  product_id       name  \n",
       "693066  6f72dfc5-27f1-42e8-84db-ccc7a75f6969     UberXL  \n",
       "693067  55c66225-fbe7-4fd5-9072-eab1ece5e23e      UberX  \n",
       "693068  8cf7e821-f0d3-49c6-8eba-e679c0ebcf6a       Taxi  \n",
       "693069  6d318bcc-22a3-4af6-bddd-b409bfce1546  Black SUV  \n",
       "693070  997acbb5-e102-41e1-b155-9df7de0a73f2   UberPool  "
      ]
     },
     "execution_count": 1123,
     "metadata": {},
     "output_type": "execute_result"
    }
   ],
   "source": [
    "data.tail()"
   ]
  },
  {
   "cell_type": "markdown",
   "id": "d4c42050",
   "metadata": {},
   "source": [
    "## Get statistical data about each numerical column"
   ]
  },
  {
   "cell_type": "code",
   "execution_count": 1124,
   "id": "f544445d",
   "metadata": {},
   "outputs": [
    {
     "data": {
      "text/html": [
       "<div>\n",
       "<style scoped>\n",
       "    .dataframe tbody tr th:only-of-type {\n",
       "        vertical-align: middle;\n",
       "    }\n",
       "\n",
       "    .dataframe tbody tr th {\n",
       "        vertical-align: top;\n",
       "    }\n",
       "\n",
       "    .dataframe thead th {\n",
       "        text-align: right;\n",
       "    }\n",
       "</style>\n",
       "<table border=\"1\" class=\"dataframe\">\n",
       "  <thead>\n",
       "    <tr style=\"text-align: right;\">\n",
       "      <th></th>\n",
       "      <th>distance</th>\n",
       "      <th>time_stamp</th>\n",
       "      <th>price</th>\n",
       "      <th>surge_multiplier</th>\n",
       "    </tr>\n",
       "  </thead>\n",
       "  <tbody>\n",
       "    <tr>\n",
       "      <th>count</th>\n",
       "      <td>693071.000000</td>\n",
       "      <td>6.930710e+05</td>\n",
       "      <td>637976.000000</td>\n",
       "      <td>693071.000000</td>\n",
       "    </tr>\n",
       "    <tr>\n",
       "      <th>mean</th>\n",
       "      <td>2.189430</td>\n",
       "      <td>1.544046e+12</td>\n",
       "      <td>16.545125</td>\n",
       "      <td>1.013870</td>\n",
       "    </tr>\n",
       "    <tr>\n",
       "      <th>std</th>\n",
       "      <td>1.138937</td>\n",
       "      <td>6.891925e+08</td>\n",
       "      <td>9.324359</td>\n",
       "      <td>0.091641</td>\n",
       "    </tr>\n",
       "    <tr>\n",
       "      <th>min</th>\n",
       "      <td>0.020000</td>\n",
       "      <td>1.543204e+12</td>\n",
       "      <td>2.500000</td>\n",
       "      <td>1.000000</td>\n",
       "    </tr>\n",
       "    <tr>\n",
       "      <th>25%</th>\n",
       "      <td>1.280000</td>\n",
       "      <td>1.543444e+12</td>\n",
       "      <td>9.000000</td>\n",
       "      <td>1.000000</td>\n",
       "    </tr>\n",
       "    <tr>\n",
       "      <th>50%</th>\n",
       "      <td>2.160000</td>\n",
       "      <td>1.543737e+12</td>\n",
       "      <td>13.500000</td>\n",
       "      <td>1.000000</td>\n",
       "    </tr>\n",
       "    <tr>\n",
       "      <th>75%</th>\n",
       "      <td>2.920000</td>\n",
       "      <td>1.544828e+12</td>\n",
       "      <td>22.500000</td>\n",
       "      <td>1.000000</td>\n",
       "    </tr>\n",
       "    <tr>\n",
       "      <th>max</th>\n",
       "      <td>7.860000</td>\n",
       "      <td>1.545161e+12</td>\n",
       "      <td>97.500000</td>\n",
       "      <td>3.000000</td>\n",
       "    </tr>\n",
       "  </tbody>\n",
       "</table>\n",
       "</div>"
      ],
      "text/plain": [
       "            distance    time_stamp          price  surge_multiplier\n",
       "count  693071.000000  6.930710e+05  637976.000000     693071.000000\n",
       "mean        2.189430  1.544046e+12      16.545125          1.013870\n",
       "std         1.138937  6.891925e+08       9.324359          0.091641\n",
       "min         0.020000  1.543204e+12       2.500000          1.000000\n",
       "25%         1.280000  1.543444e+12       9.000000          1.000000\n",
       "50%         2.160000  1.543737e+12      13.500000          1.000000\n",
       "75%         2.920000  1.544828e+12      22.500000          1.000000\n",
       "max         7.860000  1.545161e+12      97.500000          3.000000"
      ]
     },
     "execution_count": 1124,
     "metadata": {},
     "output_type": "execute_result"
    }
   ],
   "source": [
    "data.describe() # Get statistical data about each numerical column"
   ]
  },
  {
   "cell_type": "markdown",
   "id": "afb0a6b4",
   "metadata": {},
   "source": [
    "- Summarize the statistics description for each numerical columns\n",
    "- there is no any outlier values.\n",
    "- count - The number of not-empty values.\n",
    "- mean - The average (mean) value.\n",
    "- std - The standard deviation.\n",
    "- min - the minimum value.\n",
    "- 25% - The 25% percentile*.\n",
    "- 50% - The 50% percentile*.\n",
    "- 75% - The 75% percentile*.\n",
    "- max - the maximum value. \n",
    "- the mean of price 16.54"
   ]
  },
  {
   "cell_type": "markdown",
   "id": "97ee5517",
   "metadata": {},
   "source": [
    "### Cleaning cab_rides Data"
   ]
  },
  {
   "cell_type": "markdown",
   "id": "6ff5a322",
   "metadata": {},
   "source": [
    "-  drop column id , product_id  as it is irrelevant to target variable."
   ]
  },
  {
   "cell_type": "code",
   "execution_count": 1125,
   "id": "76142983",
   "metadata": {},
   "outputs": [],
   "source": [
    "data=data.drop('id',axis=1)"
   ]
  },
  {
   "cell_type": "code",
   "execution_count": 1126,
   "id": "bde1dbf6",
   "metadata": {},
   "outputs": [],
   "source": [
    "data=data.drop('product_id',axis=1)"
   ]
  },
  {
   "cell_type": "markdown",
   "id": "054ed82c",
   "metadata": {},
   "source": [
    "- Price column has 55095 rows missing data I will fill with median value"
   ]
  },
  {
   "cell_type": "code",
   "execution_count": 1127,
   "id": "bc18a3e9",
   "metadata": {
    "scrolled": true
   },
   "outputs": [
    {
     "data": {
      "text/plain": [
       "distance                0\n",
       "cab_type                0\n",
       "time_stamp              0\n",
       "destination             0\n",
       "source                  0\n",
       "price               55095\n",
       "surge_multiplier        0\n",
       "name                    0\n",
       "dtype: int64"
      ]
     },
     "execution_count": 1127,
     "metadata": {},
     "output_type": "execute_result"
    }
   ],
   "source": [
    "\n",
    "data.isnull().sum()"
   ]
  },
  {
   "cell_type": "code",
   "execution_count": 1128,
   "id": "016cebbc",
   "metadata": {},
   "outputs": [],
   "source": [
    "#missing value"
   ]
  },
  {
   "cell_type": "code",
   "execution_count": 1129,
   "id": "c4a4ae6e",
   "metadata": {},
   "outputs": [
    {
     "data": {
      "text/plain": [
       "55095"
      ]
     },
     "execution_count": 1129,
     "metadata": {},
     "output_type": "execute_result"
    }
   ],
   "source": [
    "data['price'].isnull().sum()  # The price column has 55095 rows missing data"
   ]
  },
  {
   "cell_type": "code",
   "execution_count": 1130,
   "id": "bf1de8c4",
   "metadata": {},
   "outputs": [
    {
     "data": {
      "text/plain": [
       "13.5"
      ]
     },
     "execution_count": 1130,
     "metadata": {},
     "output_type": "execute_result"
    }
   ],
   "source": [
    "data.price.median()"
   ]
  },
  {
   "cell_type": "code",
   "execution_count": 1131,
   "id": "b900f368",
   "metadata": {},
   "outputs": [],
   "source": [
    "# fill the null values with median\n",
    "data['price'].fillna(data.price.median(),inplace=True)\n"
   ]
  },
  {
   "cell_type": "code",
   "execution_count": 1132,
   "id": "c4f07988",
   "metadata": {},
   "outputs": [
    {
     "data": {
      "text/plain": [
       "distance            0\n",
       "cab_type            0\n",
       "time_stamp          0\n",
       "destination         0\n",
       "source              0\n",
       "price               0\n",
       "surge_multiplier    0\n",
       "name                0\n",
       "dtype: int64"
      ]
     },
     "execution_count": 1132,
     "metadata": {},
     "output_type": "execute_result"
    }
   ],
   "source": [
    "data.isnull().sum() # show if there any null value"
   ]
  },
  {
   "cell_type": "markdown",
   "id": "2e196bf7",
   "metadata": {},
   "source": [
    "### The second dataset weather"
   ]
  },
  {
   "cell_type": "code",
   "execution_count": 1133,
   "id": "ee978068",
   "metadata": {},
   "outputs": [
    {
     "data": {
      "text/html": [
       "<div>\n",
       "<style scoped>\n",
       "    .dataframe tbody tr th:only-of-type {\n",
       "        vertical-align: middle;\n",
       "    }\n",
       "\n",
       "    .dataframe tbody tr th {\n",
       "        vertical-align: top;\n",
       "    }\n",
       "\n",
       "    .dataframe thead th {\n",
       "        text-align: right;\n",
       "    }\n",
       "</style>\n",
       "<table border=\"1\" class=\"dataframe\">\n",
       "  <thead>\n",
       "    <tr style=\"text-align: right;\">\n",
       "      <th></th>\n",
       "      <th>temp</th>\n",
       "      <th>location</th>\n",
       "      <th>clouds</th>\n",
       "      <th>pressure</th>\n",
       "      <th>rain</th>\n",
       "      <th>time_stamp</th>\n",
       "      <th>humidity</th>\n",
       "      <th>wind</th>\n",
       "    </tr>\n",
       "  </thead>\n",
       "  <tbody>\n",
       "    <tr>\n",
       "      <th>0</th>\n",
       "      <td>42.42</td>\n",
       "      <td>Back Bay</td>\n",
       "      <td>1.00</td>\n",
       "      <td>1012.14</td>\n",
       "      <td>0.1228</td>\n",
       "      <td>1545003901</td>\n",
       "      <td>0.77</td>\n",
       "      <td>11.25</td>\n",
       "    </tr>\n",
       "    <tr>\n",
       "      <th>1</th>\n",
       "      <td>42.43</td>\n",
       "      <td>Beacon Hill</td>\n",
       "      <td>1.00</td>\n",
       "      <td>1012.15</td>\n",
       "      <td>0.1846</td>\n",
       "      <td>1545003901</td>\n",
       "      <td>0.76</td>\n",
       "      <td>11.32</td>\n",
       "    </tr>\n",
       "    <tr>\n",
       "      <th>2</th>\n",
       "      <td>42.50</td>\n",
       "      <td>Boston University</td>\n",
       "      <td>1.00</td>\n",
       "      <td>1012.15</td>\n",
       "      <td>0.1089</td>\n",
       "      <td>1545003901</td>\n",
       "      <td>0.76</td>\n",
       "      <td>11.07</td>\n",
       "    </tr>\n",
       "    <tr>\n",
       "      <th>3</th>\n",
       "      <td>42.11</td>\n",
       "      <td>Fenway</td>\n",
       "      <td>1.00</td>\n",
       "      <td>1012.13</td>\n",
       "      <td>0.0969</td>\n",
       "      <td>1545003901</td>\n",
       "      <td>0.77</td>\n",
       "      <td>11.09</td>\n",
       "    </tr>\n",
       "    <tr>\n",
       "      <th>4</th>\n",
       "      <td>43.13</td>\n",
       "      <td>Financial District</td>\n",
       "      <td>1.00</td>\n",
       "      <td>1012.14</td>\n",
       "      <td>0.1786</td>\n",
       "      <td>1545003901</td>\n",
       "      <td>0.75</td>\n",
       "      <td>11.49</td>\n",
       "    </tr>\n",
       "    <tr>\n",
       "      <th>...</th>\n",
       "      <td>...</td>\n",
       "      <td>...</td>\n",
       "      <td>...</td>\n",
       "      <td>...</td>\n",
       "      <td>...</td>\n",
       "      <td>...</td>\n",
       "      <td>...</td>\n",
       "      <td>...</td>\n",
       "    </tr>\n",
       "    <tr>\n",
       "      <th>6271</th>\n",
       "      <td>44.72</td>\n",
       "      <td>North Station</td>\n",
       "      <td>0.89</td>\n",
       "      <td>1000.69</td>\n",
       "      <td>NaN</td>\n",
       "      <td>1543819974</td>\n",
       "      <td>0.96</td>\n",
       "      <td>1.52</td>\n",
       "    </tr>\n",
       "    <tr>\n",
       "      <th>6272</th>\n",
       "      <td>44.85</td>\n",
       "      <td>Northeastern University</td>\n",
       "      <td>0.88</td>\n",
       "      <td>1000.71</td>\n",
       "      <td>NaN</td>\n",
       "      <td>1543819974</td>\n",
       "      <td>0.96</td>\n",
       "      <td>1.54</td>\n",
       "    </tr>\n",
       "    <tr>\n",
       "      <th>6273</th>\n",
       "      <td>44.82</td>\n",
       "      <td>South Station</td>\n",
       "      <td>0.89</td>\n",
       "      <td>1000.70</td>\n",
       "      <td>NaN</td>\n",
       "      <td>1543819974</td>\n",
       "      <td>0.96</td>\n",
       "      <td>1.54</td>\n",
       "    </tr>\n",
       "    <tr>\n",
       "      <th>6274</th>\n",
       "      <td>44.78</td>\n",
       "      <td>Theatre District</td>\n",
       "      <td>0.89</td>\n",
       "      <td>1000.70</td>\n",
       "      <td>NaN</td>\n",
       "      <td>1543819974</td>\n",
       "      <td>0.96</td>\n",
       "      <td>1.54</td>\n",
       "    </tr>\n",
       "    <tr>\n",
       "      <th>6275</th>\n",
       "      <td>44.69</td>\n",
       "      <td>West End</td>\n",
       "      <td>0.89</td>\n",
       "      <td>1000.70</td>\n",
       "      <td>NaN</td>\n",
       "      <td>1543819974</td>\n",
       "      <td>0.96</td>\n",
       "      <td>1.52</td>\n",
       "    </tr>\n",
       "  </tbody>\n",
       "</table>\n",
       "<p>6276 rows × 8 columns</p>\n",
       "</div>"
      ],
      "text/plain": [
       "       temp                 location  clouds  pressure    rain  time_stamp  \\\n",
       "0     42.42                 Back Bay    1.00   1012.14  0.1228  1545003901   \n",
       "1     42.43              Beacon Hill    1.00   1012.15  0.1846  1545003901   \n",
       "2     42.50        Boston University    1.00   1012.15  0.1089  1545003901   \n",
       "3     42.11                   Fenway    1.00   1012.13  0.0969  1545003901   \n",
       "4     43.13       Financial District    1.00   1012.14  0.1786  1545003901   \n",
       "...     ...                      ...     ...       ...     ...         ...   \n",
       "6271  44.72            North Station    0.89   1000.69     NaN  1543819974   \n",
       "6272  44.85  Northeastern University    0.88   1000.71     NaN  1543819974   \n",
       "6273  44.82            South Station    0.89   1000.70     NaN  1543819974   \n",
       "6274  44.78         Theatre District    0.89   1000.70     NaN  1543819974   \n",
       "6275  44.69                 West End    0.89   1000.70     NaN  1543819974   \n",
       "\n",
       "      humidity   wind  \n",
       "0         0.77  11.25  \n",
       "1         0.76  11.32  \n",
       "2         0.76  11.07  \n",
       "3         0.77  11.09  \n",
       "4         0.75  11.49  \n",
       "...        ...    ...  \n",
       "6271      0.96   1.52  \n",
       "6272      0.96   1.54  \n",
       "6273      0.96   1.54  \n",
       "6274      0.96   1.54  \n",
       "6275      0.96   1.52  \n",
       "\n",
       "[6276 rows x 8 columns]"
      ]
     },
     "execution_count": 1133,
     "metadata": {},
     "output_type": "execute_result"
    }
   ],
   "source": [
    "data2"
   ]
  },
  {
   "cell_type": "code",
   "execution_count": 1134,
   "id": "2a4d55a4",
   "metadata": {},
   "outputs": [
    {
     "name": "stdout",
     "output_type": "stream",
     "text": [
      "<class 'pandas.core.frame.DataFrame'>\n",
      "RangeIndex: 6276 entries, 0 to 6275\n",
      "Data columns (total 8 columns):\n",
      " #   Column      Non-Null Count  Dtype  \n",
      "---  ------      --------------  -----  \n",
      " 0   temp        6276 non-null   float64\n",
      " 1   location    6276 non-null   object \n",
      " 2   clouds      6276 non-null   float64\n",
      " 3   pressure    6276 non-null   float64\n",
      " 4   rain        894 non-null    float64\n",
      " 5   time_stamp  6276 non-null   int64  \n",
      " 6   humidity    6276 non-null   float64\n",
      " 7   wind        6276 non-null   float64\n",
      "dtypes: float64(6), int64(1), object(1)\n",
      "memory usage: 392.4+ KB\n"
     ]
    }
   ],
   "source": [
    "data2.info(); # Make sure of that column name changed correctly and also datatype."
   ]
  },
  {
   "cell_type": "markdown",
   "id": "a7a9cf9a",
   "metadata": {},
   "source": [
    "- This shows that we have 10 columns in total besides index, and we have 693070 record.\n",
    "- None of the data fields have NULL values.\n"
   ]
  },
  {
   "cell_type": "code",
   "execution_count": 1135,
   "id": "b7df83c1",
   "metadata": {},
   "outputs": [
    {
     "data": {
      "text/html": [
       "<div>\n",
       "<style scoped>\n",
       "    .dataframe tbody tr th:only-of-type {\n",
       "        vertical-align: middle;\n",
       "    }\n",
       "\n",
       "    .dataframe tbody tr th {\n",
       "        vertical-align: top;\n",
       "    }\n",
       "\n",
       "    .dataframe thead th {\n",
       "        text-align: right;\n",
       "    }\n",
       "</style>\n",
       "<table border=\"1\" class=\"dataframe\">\n",
       "  <thead>\n",
       "    <tr style=\"text-align: right;\">\n",
       "      <th></th>\n",
       "      <th>temp</th>\n",
       "      <th>clouds</th>\n",
       "      <th>pressure</th>\n",
       "      <th>rain</th>\n",
       "      <th>time_stamp</th>\n",
       "      <th>humidity</th>\n",
       "      <th>wind</th>\n",
       "    </tr>\n",
       "  </thead>\n",
       "  <tbody>\n",
       "    <tr>\n",
       "      <th>count</th>\n",
       "      <td>6276.000000</td>\n",
       "      <td>6276.000000</td>\n",
       "      <td>6276.000000</td>\n",
       "      <td>894.000000</td>\n",
       "      <td>6.276000e+03</td>\n",
       "      <td>6276.000000</td>\n",
       "      <td>6276.000000</td>\n",
       "    </tr>\n",
       "    <tr>\n",
       "      <th>mean</th>\n",
       "      <td>39.090475</td>\n",
       "      <td>0.677777</td>\n",
       "      <td>1008.445209</td>\n",
       "      <td>0.057652</td>\n",
       "      <td>1.543857e+09</td>\n",
       "      <td>0.763985</td>\n",
       "      <td>6.802812</td>\n",
       "    </tr>\n",
       "    <tr>\n",
       "      <th>std</th>\n",
       "      <td>6.022055</td>\n",
       "      <td>0.314284</td>\n",
       "      <td>12.870775</td>\n",
       "      <td>0.100758</td>\n",
       "      <td>6.659340e+05</td>\n",
       "      <td>0.127340</td>\n",
       "      <td>3.633466</td>\n",
       "    </tr>\n",
       "    <tr>\n",
       "      <th>min</th>\n",
       "      <td>19.620000</td>\n",
       "      <td>0.000000</td>\n",
       "      <td>988.250000</td>\n",
       "      <td>0.000200</td>\n",
       "      <td>1.543204e+09</td>\n",
       "      <td>0.450000</td>\n",
       "      <td>0.290000</td>\n",
       "    </tr>\n",
       "    <tr>\n",
       "      <th>25%</th>\n",
       "      <td>36.077500</td>\n",
       "      <td>0.440000</td>\n",
       "      <td>997.747500</td>\n",
       "      <td>0.004900</td>\n",
       "      <td>1.543387e+09</td>\n",
       "      <td>0.670000</td>\n",
       "      <td>3.517500</td>\n",
       "    </tr>\n",
       "    <tr>\n",
       "      <th>50%</th>\n",
       "      <td>40.130000</td>\n",
       "      <td>0.780000</td>\n",
       "      <td>1007.660000</td>\n",
       "      <td>0.014850</td>\n",
       "      <td>1.543514e+09</td>\n",
       "      <td>0.760000</td>\n",
       "      <td>6.570000</td>\n",
       "    </tr>\n",
       "    <tr>\n",
       "      <th>75%</th>\n",
       "      <td>42.832500</td>\n",
       "      <td>0.970000</td>\n",
       "      <td>1018.480000</td>\n",
       "      <td>0.060925</td>\n",
       "      <td>1.544691e+09</td>\n",
       "      <td>0.890000</td>\n",
       "      <td>9.920000</td>\n",
       "    </tr>\n",
       "    <tr>\n",
       "      <th>max</th>\n",
       "      <td>55.410000</td>\n",
       "      <td>1.000000</td>\n",
       "      <td>1035.120000</td>\n",
       "      <td>0.780700</td>\n",
       "      <td>1.545159e+09</td>\n",
       "      <td>0.990000</td>\n",
       "      <td>18.180000</td>\n",
       "    </tr>\n",
       "  </tbody>\n",
       "</table>\n",
       "</div>"
      ],
      "text/plain": [
       "              temp       clouds     pressure        rain    time_stamp  \\\n",
       "count  6276.000000  6276.000000  6276.000000  894.000000  6.276000e+03   \n",
       "mean     39.090475     0.677777  1008.445209    0.057652  1.543857e+09   \n",
       "std       6.022055     0.314284    12.870775    0.100758  6.659340e+05   \n",
       "min      19.620000     0.000000   988.250000    0.000200  1.543204e+09   \n",
       "25%      36.077500     0.440000   997.747500    0.004900  1.543387e+09   \n",
       "50%      40.130000     0.780000  1007.660000    0.014850  1.543514e+09   \n",
       "75%      42.832500     0.970000  1018.480000    0.060925  1.544691e+09   \n",
       "max      55.410000     1.000000  1035.120000    0.780700  1.545159e+09   \n",
       "\n",
       "          humidity         wind  \n",
       "count  6276.000000  6276.000000  \n",
       "mean      0.763985     6.802812  \n",
       "std       0.127340     3.633466  \n",
       "min       0.450000     0.290000  \n",
       "25%       0.670000     3.517500  \n",
       "50%       0.760000     6.570000  \n",
       "75%       0.890000     9.920000  \n",
       "max       0.990000    18.180000  "
      ]
     },
     "execution_count": 1135,
     "metadata": {},
     "output_type": "execute_result"
    }
   ],
   "source": [
    "data2.describe() # Get statistical data about each numerical column"
   ]
  },
  {
   "cell_type": "markdown",
   "id": "7493644e",
   "metadata": {},
   "source": [
    "## Cleaning weather Data"
   ]
  },
  {
   "cell_type": "code",
   "execution_count": 1136,
   "id": "958f68c1",
   "metadata": {},
   "outputs": [
    {
     "data": {
      "text/plain": [
       "temp             0\n",
       "location         0\n",
       "clouds           0\n",
       "pressure         0\n",
       "rain          5382\n",
       "time_stamp       0\n",
       "humidity         0\n",
       "wind             0\n",
       "dtype: int64"
      ]
     },
     "execution_count": 1136,
     "metadata": {},
     "output_type": "execute_result"
    }
   ],
   "source": [
    "data2.isnull().sum()"
   ]
  },
  {
   "cell_type": "markdown",
   "id": "dfc3072d",
   "metadata": {},
   "source": [
    "- There is null values in rain , replace them with 0 as there was no rain."
   ]
  },
  {
   "cell_type": "code",
   "execution_count": 1137,
   "id": "1139728b",
   "metadata": {},
   "outputs": [],
   "source": [
    "data2.rain.fillna(0, inplace=True) # replace null rain with  with 0 "
   ]
  },
  {
   "cell_type": "markdown",
   "id": "b5979002",
   "metadata": {},
   "source": [
    "## Merge the weather data with the cab_rides data"
   ]
  },
  {
   "cell_type": "markdown",
   "id": "4316d69c",
   "metadata": {},
   "source": [
    "- I will merge the data with combined column (Time stamp)"
   ]
  },
  {
   "cell_type": "code",
   "execution_count": 1138,
   "id": "e6e7d107",
   "metadata": {},
   "outputs": [],
   "source": [
    "data[\"time_stamp\"] = data[\"time_stamp\"] / 1000\n",
    "data[\"time_stamp\"] = data[\"time_stamp\"].apply(np.floor)"
   ]
  },
  {
   "cell_type": "code",
   "execution_count": 1139,
   "id": "7e907492",
   "metadata": {},
   "outputs": [],
   "source": [
    "data[\"time_stamp\"] = data[\"time_stamp\"].astype(int)\n",
    "data2.columns = ['temp', 'source', 'clouds', 'pressure', 'rain', 'time_stamp', 'humidity', 'wind']"
   ]
  },
  {
   "cell_type": "code",
   "execution_count": 1140,
   "id": "421b97b1",
   "metadata": {
    "scrolled": true
   },
   "outputs": [
    {
     "data": {
      "text/html": [
       "<div>\n",
       "<style scoped>\n",
       "    .dataframe tbody tr th:only-of-type {\n",
       "        vertical-align: middle;\n",
       "    }\n",
       "\n",
       "    .dataframe tbody tr th {\n",
       "        vertical-align: top;\n",
       "    }\n",
       "\n",
       "    .dataframe thead th {\n",
       "        text-align: right;\n",
       "    }\n",
       "</style>\n",
       "<table border=\"1\" class=\"dataframe\">\n",
       "  <thead>\n",
       "    <tr style=\"text-align: right;\">\n",
       "      <th></th>\n",
       "      <th>distance</th>\n",
       "      <th>cab_type</th>\n",
       "      <th>time_stamp</th>\n",
       "      <th>destination</th>\n",
       "      <th>source_x</th>\n",
       "      <th>price</th>\n",
       "      <th>surge_multiplier</th>\n",
       "      <th>name</th>\n",
       "      <th>temp</th>\n",
       "      <th>source_y</th>\n",
       "      <th>clouds</th>\n",
       "      <th>pressure</th>\n",
       "      <th>rain</th>\n",
       "      <th>humidity</th>\n",
       "      <th>wind</th>\n",
       "    </tr>\n",
       "  </thead>\n",
       "  <tbody>\n",
       "    <tr>\n",
       "      <th>0</th>\n",
       "      <td>1.08</td>\n",
       "      <td>Lyft</td>\n",
       "      <td>1543208580</td>\n",
       "      <td>Northeastern University</td>\n",
       "      <td>Back Bay</td>\n",
       "      <td>10.5</td>\n",
       "      <td>1.0</td>\n",
       "      <td>Lyft XL</td>\n",
       "      <td>40.67</td>\n",
       "      <td>Haymarket Square</td>\n",
       "      <td>0.94</td>\n",
       "      <td>1013.75</td>\n",
       "      <td>0.0</td>\n",
       "      <td>0.92</td>\n",
       "      <td>2.98</td>\n",
       "    </tr>\n",
       "    <tr>\n",
       "      <th>1</th>\n",
       "      <td>1.08</td>\n",
       "      <td>Lyft</td>\n",
       "      <td>1543208580</td>\n",
       "      <td>Northeastern University</td>\n",
       "      <td>Back Bay</td>\n",
       "      <td>10.5</td>\n",
       "      <td>1.0</td>\n",
       "      <td>Lyft XL</td>\n",
       "      <td>40.52</td>\n",
       "      <td>Northeastern University</td>\n",
       "      <td>0.93</td>\n",
       "      <td>1013.73</td>\n",
       "      <td>0.0</td>\n",
       "      <td>0.92</td>\n",
       "      <td>3.05</td>\n",
       "    </tr>\n",
       "    <tr>\n",
       "      <th>2</th>\n",
       "      <td>1.08</td>\n",
       "      <td>Lyft</td>\n",
       "      <td>1543208580</td>\n",
       "      <td>Northeastern University</td>\n",
       "      <td>Back Bay</td>\n",
       "      <td>10.5</td>\n",
       "      <td>1.0</td>\n",
       "      <td>Lyft XL</td>\n",
       "      <td>40.58</td>\n",
       "      <td>West End</td>\n",
       "      <td>0.94</td>\n",
       "      <td>1013.75</td>\n",
       "      <td>0.0</td>\n",
       "      <td>0.92</td>\n",
       "      <td>2.94</td>\n",
       "    </tr>\n",
       "    <tr>\n",
       "      <th>3</th>\n",
       "      <td>2.48</td>\n",
       "      <td>Uber</td>\n",
       "      <td>1543208580</td>\n",
       "      <td>South Station</td>\n",
       "      <td>Beacon Hill</td>\n",
       "      <td>21.5</td>\n",
       "      <td>1.0</td>\n",
       "      <td>Black</td>\n",
       "      <td>40.67</td>\n",
       "      <td>Haymarket Square</td>\n",
       "      <td>0.94</td>\n",
       "      <td>1013.75</td>\n",
       "      <td>0.0</td>\n",
       "      <td>0.92</td>\n",
       "      <td>2.98</td>\n",
       "    </tr>\n",
       "    <tr>\n",
       "      <th>4</th>\n",
       "      <td>2.48</td>\n",
       "      <td>Uber</td>\n",
       "      <td>1543208580</td>\n",
       "      <td>South Station</td>\n",
       "      <td>Beacon Hill</td>\n",
       "      <td>21.5</td>\n",
       "      <td>1.0</td>\n",
       "      <td>Black</td>\n",
       "      <td>40.52</td>\n",
       "      <td>Northeastern University</td>\n",
       "      <td>0.93</td>\n",
       "      <td>1013.73</td>\n",
       "      <td>0.0</td>\n",
       "      <td>0.92</td>\n",
       "      <td>3.05</td>\n",
       "    </tr>\n",
       "    <tr>\n",
       "      <th>...</th>\n",
       "      <td>...</td>\n",
       "      <td>...</td>\n",
       "      <td>...</td>\n",
       "      <td>...</td>\n",
       "      <td>...</td>\n",
       "      <td>...</td>\n",
       "      <td>...</td>\n",
       "      <td>...</td>\n",
       "      <td>...</td>\n",
       "      <td>...</td>\n",
       "      <td>...</td>\n",
       "      <td>...</td>\n",
       "      <td>...</td>\n",
       "      <td>...</td>\n",
       "      <td>...</td>\n",
       "    </tr>\n",
       "    <tr>\n",
       "      <th>46473</th>\n",
       "      <td>0.64</td>\n",
       "      <td>Lyft</td>\n",
       "      <td>1543213743</td>\n",
       "      <td>West End</td>\n",
       "      <td>Haymarket Square</td>\n",
       "      <td>16.5</td>\n",
       "      <td>1.0</td>\n",
       "      <td>Lux Black</td>\n",
       "      <td>43.97</td>\n",
       "      <td>Financial District</td>\n",
       "      <td>1.00</td>\n",
       "      <td>1014.18</td>\n",
       "      <td>0.0</td>\n",
       "      <td>0.81</td>\n",
       "      <td>1.45</td>\n",
       "    </tr>\n",
       "    <tr>\n",
       "      <th>46474</th>\n",
       "      <td>0.64</td>\n",
       "      <td>Lyft</td>\n",
       "      <td>1543213743</td>\n",
       "      <td>West End</td>\n",
       "      <td>Haymarket Square</td>\n",
       "      <td>16.5</td>\n",
       "      <td>1.0</td>\n",
       "      <td>Lux Black</td>\n",
       "      <td>40.60</td>\n",
       "      <td>Haymarket Square</td>\n",
       "      <td>1.00</td>\n",
       "      <td>1014.18</td>\n",
       "      <td>0.0</td>\n",
       "      <td>0.92</td>\n",
       "      <td>1.43</td>\n",
       "    </tr>\n",
       "    <tr>\n",
       "      <th>46475</th>\n",
       "      <td>0.64</td>\n",
       "      <td>Lyft</td>\n",
       "      <td>1543213743</td>\n",
       "      <td>West End</td>\n",
       "      <td>Haymarket Square</td>\n",
       "      <td>16.5</td>\n",
       "      <td>1.0</td>\n",
       "      <td>Lux Black</td>\n",
       "      <td>40.39</td>\n",
       "      <td>Northeastern University</td>\n",
       "      <td>1.00</td>\n",
       "      <td>1014.16</td>\n",
       "      <td>0.0</td>\n",
       "      <td>0.92</td>\n",
       "      <td>1.33</td>\n",
       "    </tr>\n",
       "    <tr>\n",
       "      <th>46476</th>\n",
       "      <td>0.64</td>\n",
       "      <td>Lyft</td>\n",
       "      <td>1543213743</td>\n",
       "      <td>West End</td>\n",
       "      <td>Haymarket Square</td>\n",
       "      <td>16.5</td>\n",
       "      <td>1.0</td>\n",
       "      <td>Lux Black</td>\n",
       "      <td>40.46</td>\n",
       "      <td>Theatre District</td>\n",
       "      <td>1.00</td>\n",
       "      <td>1014.17</td>\n",
       "      <td>0.0</td>\n",
       "      <td>0.92</td>\n",
       "      <td>1.41</td>\n",
       "    </tr>\n",
       "    <tr>\n",
       "      <th>46477</th>\n",
       "      <td>0.64</td>\n",
       "      <td>Lyft</td>\n",
       "      <td>1543213743</td>\n",
       "      <td>West End</td>\n",
       "      <td>Haymarket Square</td>\n",
       "      <td>16.5</td>\n",
       "      <td>1.0</td>\n",
       "      <td>Lux Black</td>\n",
       "      <td>40.48</td>\n",
       "      <td>West End</td>\n",
       "      <td>1.00</td>\n",
       "      <td>1014.18</td>\n",
       "      <td>0.0</td>\n",
       "      <td>0.92</td>\n",
       "      <td>1.41</td>\n",
       "    </tr>\n",
       "  </tbody>\n",
       "</table>\n",
       "<p>46478 rows × 15 columns</p>\n",
       "</div>"
      ],
      "text/plain": [
       "       distance cab_type  time_stamp              destination  \\\n",
       "0          1.08     Lyft  1543208580  Northeastern University   \n",
       "1          1.08     Lyft  1543208580  Northeastern University   \n",
       "2          1.08     Lyft  1543208580  Northeastern University   \n",
       "3          2.48     Uber  1543208580            South Station   \n",
       "4          2.48     Uber  1543208580            South Station   \n",
       "...         ...      ...         ...                      ...   \n",
       "46473      0.64     Lyft  1543213743                 West End   \n",
       "46474      0.64     Lyft  1543213743                 West End   \n",
       "46475      0.64     Lyft  1543213743                 West End   \n",
       "46476      0.64     Lyft  1543213743                 West End   \n",
       "46477      0.64     Lyft  1543213743                 West End   \n",
       "\n",
       "               source_x  price  surge_multiplier       name   temp  \\\n",
       "0              Back Bay   10.5               1.0    Lyft XL  40.67   \n",
       "1              Back Bay   10.5               1.0    Lyft XL  40.52   \n",
       "2              Back Bay   10.5               1.0    Lyft XL  40.58   \n",
       "3           Beacon Hill   21.5               1.0      Black  40.67   \n",
       "4           Beacon Hill   21.5               1.0      Black  40.52   \n",
       "...                 ...    ...               ...        ...    ...   \n",
       "46473  Haymarket Square   16.5               1.0  Lux Black  43.97   \n",
       "46474  Haymarket Square   16.5               1.0  Lux Black  40.60   \n",
       "46475  Haymarket Square   16.5               1.0  Lux Black  40.39   \n",
       "46476  Haymarket Square   16.5               1.0  Lux Black  40.46   \n",
       "46477  Haymarket Square   16.5               1.0  Lux Black  40.48   \n",
       "\n",
       "                      source_y  clouds  pressure  rain  humidity  wind  \n",
       "0             Haymarket Square    0.94   1013.75   0.0      0.92  2.98  \n",
       "1      Northeastern University    0.93   1013.73   0.0      0.92  3.05  \n",
       "2                     West End    0.94   1013.75   0.0      0.92  2.94  \n",
       "3             Haymarket Square    0.94   1013.75   0.0      0.92  2.98  \n",
       "4      Northeastern University    0.93   1013.73   0.0      0.92  3.05  \n",
       "...                        ...     ...       ...   ...       ...   ...  \n",
       "46473       Financial District    1.00   1014.18   0.0      0.81  1.45  \n",
       "46474         Haymarket Square    1.00   1014.18   0.0      0.92  1.43  \n",
       "46475  Northeastern University    1.00   1014.16   0.0      0.92  1.33  \n",
       "46476         Theatre District    1.00   1014.17   0.0      0.92  1.41  \n",
       "46477                 West End    1.00   1014.18   0.0      0.92  1.41  \n",
       "\n",
       "[46478 rows x 15 columns]"
      ]
     },
     "execution_count": 1140,
     "metadata": {},
     "output_type": "execute_result"
    }
   ],
   "source": [
    "merged_data = pd.merge(data, data2, on=[ \"time_stamp\"])\n",
    "merged_data"
   ]
  },
  {
   "cell_type": "markdown",
   "id": "1ee90fae",
   "metadata": {},
   "source": [
    "## Feature Engenering"
   ]
  },
  {
   "cell_type": "markdown",
   "id": "6875ec39",
   "metadata": {},
   "source": [
    "- I need to convert time_stamp to  the readable form. \n",
    "Convert it to date, week day, hour and time of day.\n",
    "calculate time of day into: Morning, Afternoon, Evening and Nigh"
   ]
  },
  {
   "cell_type": "code",
   "execution_count": 1141,
   "id": "e87bdae5",
   "metadata": {},
   "outputs": [],
   "source": [
    "merged_data[\"date\"] = merged_data[\"time_stamp\"].apply(lambda x : datetime.fromtimestamp(x).date())\n",
    "merged_data[\"time\"] = merged_data[\"time_stamp\"].apply(lambda x: datetime.fromtimestamp(x).time())\n",
    "merged_data['weekday'] = merged_data['date'].apply(lambda x: x.weekday())\n",
    "merged_data[\"weekday\"] = merged_data[\"weekday\"].map({0: 'Monday', 1: 'Tuesday', 2: 'Wednesday', 3: 'Thursday', 4: 'Friday', 5: 'Saturday', 6: 'Sunday'})\n",
    "merged_data['hour'] = merged_data['time'].apply(lambda time: time.hour)\n",
    "\n",
    "merged_data.loc[(merged_data.hour >= 6) & (merged_data.hour < 12) , 'time_of_day'] = 'Morning'\n",
    "merged_data.loc[(merged_data.hour >= 12) & (merged_data.hour < 15) , 'time_of_day'] = 'Afternoon'\n",
    "merged_data.loc[(merged_data.hour >= 15) & (merged_data.hour < 18) , 'time_of_day'] = 'Evening'\n",
    "merged_data.loc[(merged_data.hour >= 18) | (merged_data.hour < 6) , 'time_of_day'] = 'Night'\n",
    "\n",
    "merged_data = merged_data[['distance', 'cab_type', 'destination', 'source_x', 'price',\n",
    "       'surge_multiplier', 'name','time_stamp', 'date', 'time', 'weekday', 'hour', 'time_of_day','temp',  'clouds', 'pressure', 'rain', 'time_stamp', 'humidity', 'wind']]\n"
   ]
  },
  {
   "cell_type": "code",
   "execution_count": 1142,
   "id": "02fe73c1",
   "metadata": {},
   "outputs": [
    {
     "data": {
      "text/html": [
       "<div>\n",
       "<style scoped>\n",
       "    .dataframe tbody tr th:only-of-type {\n",
       "        vertical-align: middle;\n",
       "    }\n",
       "\n",
       "    .dataframe tbody tr th {\n",
       "        vertical-align: top;\n",
       "    }\n",
       "\n",
       "    .dataframe thead th {\n",
       "        text-align: right;\n",
       "    }\n",
       "</style>\n",
       "<table border=\"1\" class=\"dataframe\">\n",
       "  <thead>\n",
       "    <tr style=\"text-align: right;\">\n",
       "      <th></th>\n",
       "      <th>distance</th>\n",
       "      <th>cab_type</th>\n",
       "      <th>destination</th>\n",
       "      <th>source_x</th>\n",
       "      <th>price</th>\n",
       "      <th>surge_multiplier</th>\n",
       "      <th>name</th>\n",
       "      <th>time_stamp</th>\n",
       "      <th>date</th>\n",
       "      <th>time</th>\n",
       "      <th>weekday</th>\n",
       "      <th>hour</th>\n",
       "      <th>time_of_day</th>\n",
       "      <th>temp</th>\n",
       "      <th>clouds</th>\n",
       "      <th>pressure</th>\n",
       "      <th>rain</th>\n",
       "      <th>time_stamp</th>\n",
       "      <th>humidity</th>\n",
       "      <th>wind</th>\n",
       "    </tr>\n",
       "  </thead>\n",
       "  <tbody>\n",
       "    <tr>\n",
       "      <th>0</th>\n",
       "      <td>1.08</td>\n",
       "      <td>Lyft</td>\n",
       "      <td>Northeastern University</td>\n",
       "      <td>Back Bay</td>\n",
       "      <td>10.5</td>\n",
       "      <td>1.0</td>\n",
       "      <td>Lyft XL</td>\n",
       "      <td>1543208580</td>\n",
       "      <td>2018-11-26</td>\n",
       "      <td>08:03:00</td>\n",
       "      <td>Monday</td>\n",
       "      <td>8</td>\n",
       "      <td>Morning</td>\n",
       "      <td>40.67</td>\n",
       "      <td>0.94</td>\n",
       "      <td>1013.75</td>\n",
       "      <td>0.0</td>\n",
       "      <td>1543208580</td>\n",
       "      <td>0.92</td>\n",
       "      <td>2.98</td>\n",
       "    </tr>\n",
       "    <tr>\n",
       "      <th>1</th>\n",
       "      <td>1.08</td>\n",
       "      <td>Lyft</td>\n",
       "      <td>Northeastern University</td>\n",
       "      <td>Back Bay</td>\n",
       "      <td>10.5</td>\n",
       "      <td>1.0</td>\n",
       "      <td>Lyft XL</td>\n",
       "      <td>1543208580</td>\n",
       "      <td>2018-11-26</td>\n",
       "      <td>08:03:00</td>\n",
       "      <td>Monday</td>\n",
       "      <td>8</td>\n",
       "      <td>Morning</td>\n",
       "      <td>40.52</td>\n",
       "      <td>0.93</td>\n",
       "      <td>1013.73</td>\n",
       "      <td>0.0</td>\n",
       "      <td>1543208580</td>\n",
       "      <td>0.92</td>\n",
       "      <td>3.05</td>\n",
       "    </tr>\n",
       "    <tr>\n",
       "      <th>2</th>\n",
       "      <td>1.08</td>\n",
       "      <td>Lyft</td>\n",
       "      <td>Northeastern University</td>\n",
       "      <td>Back Bay</td>\n",
       "      <td>10.5</td>\n",
       "      <td>1.0</td>\n",
       "      <td>Lyft XL</td>\n",
       "      <td>1543208580</td>\n",
       "      <td>2018-11-26</td>\n",
       "      <td>08:03:00</td>\n",
       "      <td>Monday</td>\n",
       "      <td>8</td>\n",
       "      <td>Morning</td>\n",
       "      <td>40.58</td>\n",
       "      <td>0.94</td>\n",
       "      <td>1013.75</td>\n",
       "      <td>0.0</td>\n",
       "      <td>1543208580</td>\n",
       "      <td>0.92</td>\n",
       "      <td>2.94</td>\n",
       "    </tr>\n",
       "    <tr>\n",
       "      <th>3</th>\n",
       "      <td>2.48</td>\n",
       "      <td>Uber</td>\n",
       "      <td>South Station</td>\n",
       "      <td>Beacon Hill</td>\n",
       "      <td>21.5</td>\n",
       "      <td>1.0</td>\n",
       "      <td>Black</td>\n",
       "      <td>1543208580</td>\n",
       "      <td>2018-11-26</td>\n",
       "      <td>08:03:00</td>\n",
       "      <td>Monday</td>\n",
       "      <td>8</td>\n",
       "      <td>Morning</td>\n",
       "      <td>40.67</td>\n",
       "      <td>0.94</td>\n",
       "      <td>1013.75</td>\n",
       "      <td>0.0</td>\n",
       "      <td>1543208580</td>\n",
       "      <td>0.92</td>\n",
       "      <td>2.98</td>\n",
       "    </tr>\n",
       "    <tr>\n",
       "      <th>4</th>\n",
       "      <td>2.48</td>\n",
       "      <td>Uber</td>\n",
       "      <td>South Station</td>\n",
       "      <td>Beacon Hill</td>\n",
       "      <td>21.5</td>\n",
       "      <td>1.0</td>\n",
       "      <td>Black</td>\n",
       "      <td>1543208580</td>\n",
       "      <td>2018-11-26</td>\n",
       "      <td>08:03:00</td>\n",
       "      <td>Monday</td>\n",
       "      <td>8</td>\n",
       "      <td>Morning</td>\n",
       "      <td>40.52</td>\n",
       "      <td>0.93</td>\n",
       "      <td>1013.73</td>\n",
       "      <td>0.0</td>\n",
       "      <td>1543208580</td>\n",
       "      <td>0.92</td>\n",
       "      <td>3.05</td>\n",
       "    </tr>\n",
       "  </tbody>\n",
       "</table>\n",
       "</div>"
      ],
      "text/plain": [
       "   distance cab_type              destination     source_x  price  \\\n",
       "0      1.08     Lyft  Northeastern University     Back Bay   10.5   \n",
       "1      1.08     Lyft  Northeastern University     Back Bay   10.5   \n",
       "2      1.08     Lyft  Northeastern University     Back Bay   10.5   \n",
       "3      2.48     Uber            South Station  Beacon Hill   21.5   \n",
       "4      2.48     Uber            South Station  Beacon Hill   21.5   \n",
       "\n",
       "   surge_multiplier     name  time_stamp        date      time weekday  hour  \\\n",
       "0               1.0  Lyft XL  1543208580  2018-11-26  08:03:00  Monday     8   \n",
       "1               1.0  Lyft XL  1543208580  2018-11-26  08:03:00  Monday     8   \n",
       "2               1.0  Lyft XL  1543208580  2018-11-26  08:03:00  Monday     8   \n",
       "3               1.0    Black  1543208580  2018-11-26  08:03:00  Monday     8   \n",
       "4               1.0    Black  1543208580  2018-11-26  08:03:00  Monday     8   \n",
       "\n",
       "  time_of_day   temp  clouds  pressure  rain  time_stamp  humidity  wind  \n",
       "0     Morning  40.67    0.94   1013.75   0.0  1543208580      0.92  2.98  \n",
       "1     Morning  40.52    0.93   1013.73   0.0  1543208580      0.92  3.05  \n",
       "2     Morning  40.58    0.94   1013.75   0.0  1543208580      0.92  2.94  \n",
       "3     Morning  40.67    0.94   1013.75   0.0  1543208580      0.92  2.98  \n",
       "4     Morning  40.52    0.93   1013.73   0.0  1543208580      0.92  3.05  "
      ]
     },
     "execution_count": 1142,
     "metadata": {},
     "output_type": "execute_result"
    }
   ],
   "source": [
    "merged_data.head()"
   ]
  },
  {
   "cell_type": "code",
   "execution_count": 1143,
   "id": "23b3e3e2",
   "metadata": {},
   "outputs": [
    {
     "data": {
      "text/plain": [
       "(46478, 20)"
      ]
     },
     "execution_count": 1143,
     "metadata": {},
     "output_type": "execute_result"
    }
   ],
   "source": [
    "merged_data.shape"
   ]
  },
  {
   "cell_type": "code",
   "execution_count": 1144,
   "id": "761bb0d2",
   "metadata": {},
   "outputs": [
    {
     "data": {
      "text/html": [
       "<div>\n",
       "<style scoped>\n",
       "    .dataframe tbody tr th:only-of-type {\n",
       "        vertical-align: middle;\n",
       "    }\n",
       "\n",
       "    .dataframe tbody tr th {\n",
       "        vertical-align: top;\n",
       "    }\n",
       "\n",
       "    .dataframe thead th {\n",
       "        text-align: right;\n",
       "    }\n",
       "</style>\n",
       "<table border=\"1\" class=\"dataframe\">\n",
       "  <thead>\n",
       "    <tr style=\"text-align: right;\">\n",
       "      <th></th>\n",
       "      <th>distance</th>\n",
       "      <th>price</th>\n",
       "      <th>surge_multiplier</th>\n",
       "      <th>time_stamp</th>\n",
       "      <th>hour</th>\n",
       "      <th>temp</th>\n",
       "      <th>clouds</th>\n",
       "      <th>pressure</th>\n",
       "      <th>rain</th>\n",
       "      <th>time_stamp</th>\n",
       "      <th>humidity</th>\n",
       "      <th>wind</th>\n",
       "    </tr>\n",
       "  </thead>\n",
       "  <tbody>\n",
       "    <tr>\n",
       "      <th>count</th>\n",
       "      <td>46478.000000</td>\n",
       "      <td>46478.000000</td>\n",
       "      <td>46478.000000</td>\n",
       "      <td>4.647800e+04</td>\n",
       "      <td>46478.000000</td>\n",
       "      <td>46478.000000</td>\n",
       "      <td>46478.000000</td>\n",
       "      <td>46478.000000</td>\n",
       "      <td>46478.000000</td>\n",
       "      <td>4.647800e+04</td>\n",
       "      <td>46478.000000</td>\n",
       "      <td>46478.000000</td>\n",
       "    </tr>\n",
       "    <tr>\n",
       "      <th>mean</th>\n",
       "      <td>2.185357</td>\n",
       "      <td>16.461831</td>\n",
       "      <td>1.017567</td>\n",
       "      <td>1.543392e+09</td>\n",
       "      <td>10.187594</td>\n",
       "      <td>39.109971</td>\n",
       "      <td>0.682439</td>\n",
       "      <td>998.558524</td>\n",
       "      <td>0.017522</td>\n",
       "      <td>1.543392e+09</td>\n",
       "      <td>0.757494</td>\n",
       "      <td>7.934814</td>\n",
       "    </tr>\n",
       "    <tr>\n",
       "      <th>std</th>\n",
       "      <td>1.138375</td>\n",
       "      <td>9.266281</td>\n",
       "      <td>0.102235</td>\n",
       "      <td>1.321904e+05</td>\n",
       "      <td>6.690647</td>\n",
       "      <td>3.364203</td>\n",
       "      <td>0.293049</td>\n",
       "      <td>8.575645</td>\n",
       "      <td>0.095414</td>\n",
       "      <td>1.321904e+05</td>\n",
       "      <td>0.104712</td>\n",
       "      <td>3.035841</td>\n",
       "    </tr>\n",
       "    <tr>\n",
       "      <th>min</th>\n",
       "      <td>0.020000</td>\n",
       "      <td>2.500000</td>\n",
       "      <td>1.000000</td>\n",
       "      <td>1.543204e+09</td>\n",
       "      <td>0.000000</td>\n",
       "      <td>24.500000</td>\n",
       "      <td>0.000000</td>\n",
       "      <td>990.640000</td>\n",
       "      <td>0.000000</td>\n",
       "      <td>1.543204e+09</td>\n",
       "      <td>0.450000</td>\n",
       "      <td>0.290000</td>\n",
       "    </tr>\n",
       "    <tr>\n",
       "      <th>25%</th>\n",
       "      <td>1.270000</td>\n",
       "      <td>9.500000</td>\n",
       "      <td>1.000000</td>\n",
       "      <td>1.543366e+09</td>\n",
       "      <td>4.000000</td>\n",
       "      <td>37.590000</td>\n",
       "      <td>0.460000</td>\n",
       "      <td>991.710000</td>\n",
       "      <td>0.000000</td>\n",
       "      <td>1.543366e+09</td>\n",
       "      <td>0.660000</td>\n",
       "      <td>6.420000</td>\n",
       "    </tr>\n",
       "    <tr>\n",
       "      <th>50%</th>\n",
       "      <td>2.170000</td>\n",
       "      <td>13.500000</td>\n",
       "      <td>1.000000</td>\n",
       "      <td>1.543414e+09</td>\n",
       "      <td>10.000000</td>\n",
       "      <td>39.210000</td>\n",
       "      <td>0.750000</td>\n",
       "      <td>995.860000</td>\n",
       "      <td>0.000000</td>\n",
       "      <td>1.543414e+09</td>\n",
       "      <td>0.720000</td>\n",
       "      <td>9.340000</td>\n",
       "    </tr>\n",
       "    <tr>\n",
       "      <th>75%</th>\n",
       "      <td>2.930000</td>\n",
       "      <td>22.500000</td>\n",
       "      <td>1.000000</td>\n",
       "      <td>1.543449e+09</td>\n",
       "      <td>16.000000</td>\n",
       "      <td>41.100000</td>\n",
       "      <td>0.970000</td>\n",
       "      <td>1004.150000</td>\n",
       "      <td>0.000000</td>\n",
       "      <td>1.543449e+09</td>\n",
       "      <td>0.840000</td>\n",
       "      <td>10.020000</td>\n",
       "    </tr>\n",
       "    <tr>\n",
       "      <th>max</th>\n",
       "      <td>7.460000</td>\n",
       "      <td>92.000000</td>\n",
       "      <td>2.500000</td>\n",
       "      <td>1.545101e+09</td>\n",
       "      <td>23.000000</td>\n",
       "      <td>54.620000</td>\n",
       "      <td>1.000000</td>\n",
       "      <td>1035.030000</td>\n",
       "      <td>0.780700</td>\n",
       "      <td>1.545101e+09</td>\n",
       "      <td>0.990000</td>\n",
       "      <td>13.660000</td>\n",
       "    </tr>\n",
       "  </tbody>\n",
       "</table>\n",
       "</div>"
      ],
      "text/plain": [
       "           distance         price  surge_multiplier    time_stamp  \\\n",
       "count  46478.000000  46478.000000      46478.000000  4.647800e+04   \n",
       "mean       2.185357     16.461831          1.017567  1.543392e+09   \n",
       "std        1.138375      9.266281          0.102235  1.321904e+05   \n",
       "min        0.020000      2.500000          1.000000  1.543204e+09   \n",
       "25%        1.270000      9.500000          1.000000  1.543366e+09   \n",
       "50%        2.170000     13.500000          1.000000  1.543414e+09   \n",
       "75%        2.930000     22.500000          1.000000  1.543449e+09   \n",
       "max        7.460000     92.000000          2.500000  1.545101e+09   \n",
       "\n",
       "               hour          temp        clouds      pressure          rain  \\\n",
       "count  46478.000000  46478.000000  46478.000000  46478.000000  46478.000000   \n",
       "mean      10.187594     39.109971      0.682439    998.558524      0.017522   \n",
       "std        6.690647      3.364203      0.293049      8.575645      0.095414   \n",
       "min        0.000000     24.500000      0.000000    990.640000      0.000000   \n",
       "25%        4.000000     37.590000      0.460000    991.710000      0.000000   \n",
       "50%       10.000000     39.210000      0.750000    995.860000      0.000000   \n",
       "75%       16.000000     41.100000      0.970000   1004.150000      0.000000   \n",
       "max       23.000000     54.620000      1.000000   1035.030000      0.780700   \n",
       "\n",
       "         time_stamp      humidity          wind  \n",
       "count  4.647800e+04  46478.000000  46478.000000  \n",
       "mean   1.543392e+09      0.757494      7.934814  \n",
       "std    1.321904e+05      0.104712      3.035841  \n",
       "min    1.543204e+09      0.450000      0.290000  \n",
       "25%    1.543366e+09      0.660000      6.420000  \n",
       "50%    1.543414e+09      0.720000      9.340000  \n",
       "75%    1.543449e+09      0.840000     10.020000  \n",
       "max    1.545101e+09      0.990000     13.660000  "
      ]
     },
     "execution_count": 1144,
     "metadata": {},
     "output_type": "execute_result"
    }
   ],
   "source": [
    "merged_data.describe()"
   ]
  },
  {
   "cell_type": "markdown",
   "id": "be246824",
   "metadata": {},
   "source": [
    "# Exploratory Data Analysis\n"
   ]
  },
  {
   "cell_type": "markdown",
   "id": "2cfb2bfb",
   "metadata": {},
   "source": [
    "## Data Visualization"
   ]
  },
  {
   "cell_type": "code",
   "execution_count": 1145,
   "id": "d3b32cf2",
   "metadata": {},
   "outputs": [
    {
     "data": {
      "image/png": "[encoded data removed]",
      "text/plain": [
       "<Figure size 432x432 with 1 Axes>"
      ]
     },
     "metadata": {},
     "output_type": "display_data"
    }
   ],
   "source": [
    "plt.figure(figsize=(6,6))\n",
    "\n",
    "plt.title('cab_type',fontsize = 20)\n",
    "merged_data['cab_type'].value_counts().plot.pie(autopct=\"%1.1f%%\");"
   ]
  },
  {
   "cell_type": "markdown",
   "id": "b5f12b76",
   "metadata": {},
   "source": [
    "- Uber gets a more rides compared to Lyft in this dataset\n",
    "- Percentage of rides in uber 55.8% \n",
    "- Percentage of rides in Lyft 44.2% "
   ]
  },
  {
   "cell_type": "code",
   "execution_count": 1146,
   "id": "254eb061",
   "metadata": {},
   "outputs": [
    {
     "data": {
      "text/plain": [
       "Uber    25925\n",
       "Lyft    20553\n",
       "Name: cab_type, dtype: int64"
      ]
     },
     "execution_count": 1146,
     "metadata": {},
     "output_type": "execute_result"
    }
   ],
   "source": [
    "merged_data['cab_type'].value_counts()"
   ]
  },
  {
   "cell_type": "markdown",
   "id": "272773e2",
   "metadata": {},
   "source": [
    "### surge multiplier"
   ]
  },
  {
   "cell_type": "code",
   "execution_count": 1147,
   "id": "0d3a5573",
   "metadata": {},
   "outputs": [
    {
     "data": {
      "image/png": "[encoded data removed]",
      "text/plain": [
       "<Figure size 432x288 with 1 Axes>"
      ]
     },
     "metadata": {
      "needs_background": "light"
     },
     "output_type": "display_data"
    }
   ],
   "source": [
    "sns.boxplot(x='surge_multiplier',y='price',data=merged_data,palette='rainbow');"
   ]
  },
  {
   "cell_type": "markdown",
   "id": "b3728221",
   "metadata": {},
   "source": [
    "- From above we show the relationship between surge and price .\n",
    "- The range of 1.0 surge from 10 to 20 dollar \n",
    "- The 2.0 surge price  from 25 to 85 dollar and median of raide over 40 \n",
    "- The surge 2.5 have less count"
   ]
  },
  {
   "cell_type": "markdown",
   "id": "df869ebc",
   "metadata": {},
   "source": [
    "### Cab_type - Distance Vs Price"
   ]
  },
  {
   "cell_type": "code",
   "execution_count": 1148,
   "id": "0c253cfe",
   "metadata": {
    "scrolled": false
   },
   "outputs": [
    {
     "data": {
      "image/png": "[encoded data removed]",
      "text/plain": [
       "<Figure size 936x576 with 1 Axes>"
      ]
     },
     "metadata": {
      "needs_background": "light"
     },
     "output_type": "display_data"
    }
   ],
   "source": [
    "plt.figure(figsize=(13, 8))\n",
    "sns.scatterplot(data=merged_data, x=\"distance\", y=\"price\", hue=\"cab_type\", palette=\"deep\").set_title(\"cab_type - Distance Vs Price\",fontsize = 20);"
   ]
  },
  {
   "cell_type": "markdown",
   "id": "8e37e424",
   "metadata": {},
   "source": [
    "- it can be observed that Lyft has a lower minimum fare compared to Uber, at the same time Lyft has higher maximum fare. Also, Uber travel distances are generally higher than Lyft.\n"
   ]
  },
  {
   "cell_type": "markdown",
   "id": "a3497d8b",
   "metadata": {},
   "source": [
    "- from above visualization we can\n",
    "conclude that on 1.0 surge   have less  price trips, and on 2.0 trip  have\n",
    "most price of trips "
   ]
  },
  {
   "cell_type": "markdown",
   "id": "02eae226",
   "metadata": {},
   "source": [
    "### Surge_multiplier Vs Price"
   ]
  },
  {
   "cell_type": "code",
   "execution_count": 1149,
   "id": "7813734b",
   "metadata": {},
   "outputs": [
    {
     "data": {
      "image/png": "[encoded data removed]",
      "text/plain": [
       "<Figure size 936x576 with 1 Axes>"
      ]
     },
     "metadata": {
      "needs_background": "light"
     },
     "output_type": "display_data"
    }
   ],
   "source": [
    "plt.figure(figsize=(13, 8))\n",
    "sns.scatterplot(data=merged_data, x=\"distance\", y=\"price\", hue=\"surge_multiplier\", palette=\"deep\").set_title(\"surge_multiplier Vs Price\");"
   ]
  },
  {
   "cell_type": "markdown",
   "id": "090722e3",
   "metadata": {},
   "source": [
    "- from above we learn that distance and price are not strongly correlated. As the distance increases, price does not increase linearly."
   ]
  },
  {
   "cell_type": "markdown",
   "id": "8e5de8f5",
   "metadata": {},
   "source": [
    "- So as the distance increases, price increases. We also see that with higher prices, more surge multiplier increases\n"
   ]
  },
  {
   "cell_type": "code",
   "execution_count": 1150,
   "id": "64474d66",
   "metadata": {},
   "outputs": [
    {
     "data": {
      "text/html": [
       "<div>\n",
       "<style scoped>\n",
       "    .dataframe tbody tr th:only-of-type {\n",
       "        vertical-align: middle;\n",
       "    }\n",
       "\n",
       "    .dataframe tbody tr th {\n",
       "        vertical-align: top;\n",
       "    }\n",
       "\n",
       "    .dataframe thead th {\n",
       "        text-align: right;\n",
       "    }\n",
       "</style>\n",
       "<table border=\"1\" class=\"dataframe\">\n",
       "  <thead>\n",
       "    <tr style=\"text-align: right;\">\n",
       "      <th></th>\n",
       "      <th>distance</th>\n",
       "      <th>destination</th>\n",
       "      <th>source_x</th>\n",
       "      <th>price</th>\n",
       "      <th>surge_multiplier</th>\n",
       "      <th>name</th>\n",
       "      <th>time_stamp</th>\n",
       "      <th>date</th>\n",
       "      <th>time</th>\n",
       "      <th>weekday</th>\n",
       "      <th>hour</th>\n",
       "      <th>time_of_day</th>\n",
       "      <th>temp</th>\n",
       "      <th>clouds</th>\n",
       "      <th>pressure</th>\n",
       "      <th>rain</th>\n",
       "      <th>time_stamp</th>\n",
       "      <th>humidity</th>\n",
       "      <th>wind</th>\n",
       "    </tr>\n",
       "    <tr>\n",
       "      <th>cab_type</th>\n",
       "      <th></th>\n",
       "      <th></th>\n",
       "      <th></th>\n",
       "      <th></th>\n",
       "      <th></th>\n",
       "      <th></th>\n",
       "      <th></th>\n",
       "      <th></th>\n",
       "      <th></th>\n",
       "      <th></th>\n",
       "      <th></th>\n",
       "      <th></th>\n",
       "      <th></th>\n",
       "      <th></th>\n",
       "      <th></th>\n",
       "      <th></th>\n",
       "      <th></th>\n",
       "      <th></th>\n",
       "      <th></th>\n",
       "    </tr>\n",
       "  </thead>\n",
       "  <tbody>\n",
       "    <tr>\n",
       "      <th>Lyft</th>\n",
       "      <td>20553</td>\n",
       "      <td>20553</td>\n",
       "      <td>20553</td>\n",
       "      <td>20553</td>\n",
       "      <td>20553</td>\n",
       "      <td>20553</td>\n",
       "      <td>20553</td>\n",
       "      <td>20553</td>\n",
       "      <td>20553</td>\n",
       "      <td>20553</td>\n",
       "      <td>20553</td>\n",
       "      <td>20553</td>\n",
       "      <td>20553</td>\n",
       "      <td>20553</td>\n",
       "      <td>20553</td>\n",
       "      <td>20553</td>\n",
       "      <td>20553</td>\n",
       "      <td>20553</td>\n",
       "      <td>20553</td>\n",
       "    </tr>\n",
       "    <tr>\n",
       "      <th>Uber</th>\n",
       "      <td>25925</td>\n",
       "      <td>25925</td>\n",
       "      <td>25925</td>\n",
       "      <td>25925</td>\n",
       "      <td>25925</td>\n",
       "      <td>25925</td>\n",
       "      <td>25925</td>\n",
       "      <td>25925</td>\n",
       "      <td>25925</td>\n",
       "      <td>25925</td>\n",
       "      <td>25925</td>\n",
       "      <td>25925</td>\n",
       "      <td>25925</td>\n",
       "      <td>25925</td>\n",
       "      <td>25925</td>\n",
       "      <td>25925</td>\n",
       "      <td>25925</td>\n",
       "      <td>25925</td>\n",
       "      <td>25925</td>\n",
       "    </tr>\n",
       "  </tbody>\n",
       "</table>\n",
       "</div>"
      ],
      "text/plain": [
       "          distance  destination  source_x  price  surge_multiplier   name  \\\n",
       "cab_type                                                                    \n",
       "Lyft         20553        20553     20553  20553             20553  20553   \n",
       "Uber         25925        25925     25925  25925             25925  25925   \n",
       "\n",
       "          time_stamp   date   time  weekday   hour  time_of_day   temp  \\\n",
       "cab_type                                                                 \n",
       "Lyft           20553  20553  20553    20553  20553        20553  20553   \n",
       "Uber           25925  25925  25925    25925  25925        25925  25925   \n",
       "\n",
       "          clouds  pressure   rain  time_stamp  humidity   wind  \n",
       "cab_type                                                        \n",
       "Lyft       20553     20553  20553       20553     20553  20553  \n",
       "Uber       25925     25925  25925       25925     25925  25925  "
      ]
     },
     "execution_count": 1150,
     "metadata": {},
     "output_type": "execute_result"
    }
   ],
   "source": [
    "merged_data.groupby('cab_type').count()"
   ]
  },
  {
   "cell_type": "markdown",
   "id": "ecc3fe5c",
   "metadata": {},
   "source": [
    "## Rain Vs Price"
   ]
  },
  {
   "cell_type": "code",
   "execution_count": 1151,
   "id": "94943465",
   "metadata": {},
   "outputs": [
    {
     "data": {
      "image/png": "[encoded data removed]",
      "text/plain": [
       "<Figure size 936x576 with 1 Axes>"
      ]
     },
     "metadata": {
      "needs_background": "light"
     },
     "output_type": "display_data"
    }
   ],
   "source": [
    "plt.figure(figsize=(13, 8))\n",
    "sns.scatterplot(data=merged_data, x=\"rain\", y=\"price\", hue=\"cab_type\", palette=\"deep\").set_title(\" rain Vs Price\",fontsize = 20);"
   ]
  },
  {
   "cell_type": "markdown",
   "id": "015c22b8",
   "metadata": {},
   "source": [
    "- From above we learn that uber have more rides than lyft in rain time\n",
    "- lyft higher price than uber  \n",
    "- The number of rides decreases when it rains. "
   ]
  },
  {
   "cell_type": "code",
   "execution_count": 1153,
   "id": "701dc056",
   "metadata": {},
   "outputs": [
    {
     "data": {
      "text/html": [
       "<div>\n",
       "<style scoped>\n",
       "    .dataframe tbody tr th:only-of-type {\n",
       "        vertical-align: middle;\n",
       "    }\n",
       "\n",
       "    .dataframe tbody tr th {\n",
       "        vertical-align: top;\n",
       "    }\n",
       "\n",
       "    .dataframe thead th {\n",
       "        text-align: right;\n",
       "    }\n",
       "</style>\n",
       "<table border=\"1\" class=\"dataframe\">\n",
       "  <thead>\n",
       "    <tr style=\"text-align: right;\">\n",
       "      <th></th>\n",
       "      <th>distance</th>\n",
       "      <th>cab_type</th>\n",
       "      <th>destination</th>\n",
       "      <th>source_x</th>\n",
       "      <th>price</th>\n",
       "      <th>surge_multiplier</th>\n",
       "      <th>name</th>\n",
       "      <th>time_stamp</th>\n",
       "      <th>date</th>\n",
       "      <th>time</th>\n",
       "      <th>weekday</th>\n",
       "      <th>hour</th>\n",
       "      <th>time_of_day</th>\n",
       "      <th>temp</th>\n",
       "      <th>clouds</th>\n",
       "      <th>pressure</th>\n",
       "      <th>time_stamp</th>\n",
       "      <th>humidity</th>\n",
       "      <th>wind</th>\n",
       "    </tr>\n",
       "    <tr>\n",
       "      <th>rain</th>\n",
       "      <th></th>\n",
       "      <th></th>\n",
       "      <th></th>\n",
       "      <th></th>\n",
       "      <th></th>\n",
       "      <th></th>\n",
       "      <th></th>\n",
       "      <th></th>\n",
       "      <th></th>\n",
       "      <th></th>\n",
       "      <th></th>\n",
       "      <th></th>\n",
       "      <th></th>\n",
       "      <th></th>\n",
       "      <th></th>\n",
       "      <th></th>\n",
       "      <th></th>\n",
       "      <th></th>\n",
       "      <th></th>\n",
       "    </tr>\n",
       "  </thead>\n",
       "  <tbody>\n",
       "    <tr>\n",
       "      <th>0.0000</th>\n",
       "      <td>41964</td>\n",
       "      <td>41964</td>\n",
       "      <td>41964</td>\n",
       "      <td>41964</td>\n",
       "      <td>41964</td>\n",
       "      <td>41964</td>\n",
       "      <td>41964</td>\n",
       "      <td>41964</td>\n",
       "      <td>41964</td>\n",
       "      <td>41964</td>\n",
       "      <td>41964</td>\n",
       "      <td>41964</td>\n",
       "      <td>41964</td>\n",
       "      <td>41964</td>\n",
       "      <td>41964</td>\n",
       "      <td>41964</td>\n",
       "      <td>41964</td>\n",
       "      <td>41964</td>\n",
       "      <td>41964</td>\n",
       "    </tr>\n",
       "    <tr>\n",
       "      <th>0.0006</th>\n",
       "      <td>56</td>\n",
       "      <td>56</td>\n",
       "      <td>56</td>\n",
       "      <td>56</td>\n",
       "      <td>56</td>\n",
       "      <td>56</td>\n",
       "      <td>56</td>\n",
       "      <td>56</td>\n",
       "      <td>56</td>\n",
       "      <td>56</td>\n",
       "      <td>56</td>\n",
       "      <td>56</td>\n",
       "      <td>56</td>\n",
       "      <td>56</td>\n",
       "      <td>56</td>\n",
       "      <td>56</td>\n",
       "      <td>56</td>\n",
       "      <td>56</td>\n",
       "      <td>56</td>\n",
       "    </tr>\n",
       "    <tr>\n",
       "      <th>0.0007</th>\n",
       "      <td>14</td>\n",
       "      <td>14</td>\n",
       "      <td>14</td>\n",
       "      <td>14</td>\n",
       "      <td>14</td>\n",
       "      <td>14</td>\n",
       "      <td>14</td>\n",
       "      <td>14</td>\n",
       "      <td>14</td>\n",
       "      <td>14</td>\n",
       "      <td>14</td>\n",
       "      <td>14</td>\n",
       "      <td>14</td>\n",
       "      <td>14</td>\n",
       "      <td>14</td>\n",
       "      <td>14</td>\n",
       "      <td>14</td>\n",
       "      <td>14</td>\n",
       "      <td>14</td>\n",
       "    </tr>\n",
       "    <tr>\n",
       "      <th>0.0008</th>\n",
       "      <td>28</td>\n",
       "      <td>28</td>\n",
       "      <td>28</td>\n",
       "      <td>28</td>\n",
       "      <td>28</td>\n",
       "      <td>28</td>\n",
       "      <td>28</td>\n",
       "      <td>28</td>\n",
       "      <td>28</td>\n",
       "      <td>28</td>\n",
       "      <td>28</td>\n",
       "      <td>28</td>\n",
       "      <td>28</td>\n",
       "      <td>28</td>\n",
       "      <td>28</td>\n",
       "      <td>28</td>\n",
       "      <td>28</td>\n",
       "      <td>28</td>\n",
       "      <td>28</td>\n",
       "    </tr>\n",
       "    <tr>\n",
       "      <th>0.0013</th>\n",
       "      <td>14</td>\n",
       "      <td>14</td>\n",
       "      <td>14</td>\n",
       "      <td>14</td>\n",
       "      <td>14</td>\n",
       "      <td>14</td>\n",
       "      <td>14</td>\n",
       "      <td>14</td>\n",
       "      <td>14</td>\n",
       "      <td>14</td>\n",
       "      <td>14</td>\n",
       "      <td>14</td>\n",
       "      <td>14</td>\n",
       "      <td>14</td>\n",
       "      <td>14</td>\n",
       "      <td>14</td>\n",
       "      <td>14</td>\n",
       "      <td>14</td>\n",
       "      <td>14</td>\n",
       "    </tr>\n",
       "    <tr>\n",
       "      <th>...</th>\n",
       "      <td>...</td>\n",
       "      <td>...</td>\n",
       "      <td>...</td>\n",
       "      <td>...</td>\n",
       "      <td>...</td>\n",
       "      <td>...</td>\n",
       "      <td>...</td>\n",
       "      <td>...</td>\n",
       "      <td>...</td>\n",
       "      <td>...</td>\n",
       "      <td>...</td>\n",
       "      <td>...</td>\n",
       "      <td>...</td>\n",
       "      <td>...</td>\n",
       "      <td>...</td>\n",
       "      <td>...</td>\n",
       "      <td>...</td>\n",
       "      <td>...</td>\n",
       "      <td>...</td>\n",
       "    </tr>\n",
       "    <tr>\n",
       "      <th>0.7247</th>\n",
       "      <td>69</td>\n",
       "      <td>69</td>\n",
       "      <td>69</td>\n",
       "      <td>69</td>\n",
       "      <td>69</td>\n",
       "      <td>69</td>\n",
       "      <td>69</td>\n",
       "      <td>69</td>\n",
       "      <td>69</td>\n",
       "      <td>69</td>\n",
       "      <td>69</td>\n",
       "      <td>69</td>\n",
       "      <td>69</td>\n",
       "      <td>69</td>\n",
       "      <td>69</td>\n",
       "      <td>69</td>\n",
       "      <td>69</td>\n",
       "      <td>69</td>\n",
       "      <td>69</td>\n",
       "    </tr>\n",
       "    <tr>\n",
       "      <th>0.7505</th>\n",
       "      <td>69</td>\n",
       "      <td>69</td>\n",
       "      <td>69</td>\n",
       "      <td>69</td>\n",
       "      <td>69</td>\n",
       "      <td>69</td>\n",
       "      <td>69</td>\n",
       "      <td>69</td>\n",
       "      <td>69</td>\n",
       "      <td>69</td>\n",
       "      <td>69</td>\n",
       "      <td>69</td>\n",
       "      <td>69</td>\n",
       "      <td>69</td>\n",
       "      <td>69</td>\n",
       "      <td>69</td>\n",
       "      <td>69</td>\n",
       "      <td>69</td>\n",
       "      <td>69</td>\n",
       "    </tr>\n",
       "    <tr>\n",
       "      <th>0.7625</th>\n",
       "      <td>69</td>\n",
       "      <td>69</td>\n",
       "      <td>69</td>\n",
       "      <td>69</td>\n",
       "      <td>69</td>\n",
       "      <td>69</td>\n",
       "      <td>69</td>\n",
       "      <td>69</td>\n",
       "      <td>69</td>\n",
       "      <td>69</td>\n",
       "      <td>69</td>\n",
       "      <td>69</td>\n",
       "      <td>69</td>\n",
       "      <td>69</td>\n",
       "      <td>69</td>\n",
       "      <td>69</td>\n",
       "      <td>69</td>\n",
       "      <td>69</td>\n",
       "      <td>69</td>\n",
       "    </tr>\n",
       "    <tr>\n",
       "      <th>0.7753</th>\n",
       "      <td>69</td>\n",
       "      <td>69</td>\n",
       "      <td>69</td>\n",
       "      <td>69</td>\n",
       "      <td>69</td>\n",
       "      <td>69</td>\n",
       "      <td>69</td>\n",
       "      <td>69</td>\n",
       "      <td>69</td>\n",
       "      <td>69</td>\n",
       "      <td>69</td>\n",
       "      <td>69</td>\n",
       "      <td>69</td>\n",
       "      <td>69</td>\n",
       "      <td>69</td>\n",
       "      <td>69</td>\n",
       "      <td>69</td>\n",
       "      <td>69</td>\n",
       "      <td>69</td>\n",
       "    </tr>\n",
       "    <tr>\n",
       "      <th>0.7807</th>\n",
       "      <td>69</td>\n",
       "      <td>69</td>\n",
       "      <td>69</td>\n",
       "      <td>69</td>\n",
       "      <td>69</td>\n",
       "      <td>69</td>\n",
       "      <td>69</td>\n",
       "      <td>69</td>\n",
       "      <td>69</td>\n",
       "      <td>69</td>\n",
       "      <td>69</td>\n",
       "      <td>69</td>\n",
       "      <td>69</td>\n",
       "      <td>69</td>\n",
       "      <td>69</td>\n",
       "      <td>69</td>\n",
       "      <td>69</td>\n",
       "      <td>69</td>\n",
       "      <td>69</td>\n",
       "    </tr>\n",
       "  </tbody>\n",
       "</table>\n",
       "<p>83 rows × 19 columns</p>\n",
       "</div>"
      ],
      "text/plain": [
       "        distance  cab_type  destination  source_x  price  surge_multiplier  \\\n",
       "rain                                                                         \n",
       "0.0000     41964     41964        41964     41964  41964             41964   \n",
       "0.0006        56        56           56        56     56                56   \n",
       "0.0007        14        14           14        14     14                14   \n",
       "0.0008        28        28           28        28     28                28   \n",
       "0.0013        14        14           14        14     14                14   \n",
       "...          ...       ...          ...       ...    ...               ...   \n",
       "0.7247        69        69           69        69     69                69   \n",
       "0.7505        69        69           69        69     69                69   \n",
       "0.7625        69        69           69        69     69                69   \n",
       "0.7753        69        69           69        69     69                69   \n",
       "0.7807        69        69           69        69     69                69   \n",
       "\n",
       "         name  time_stamp   date   time  weekday   hour  time_of_day   temp  \\\n",
       "rain                                                                          \n",
       "0.0000  41964       41964  41964  41964    41964  41964        41964  41964   \n",
       "0.0006     56          56     56     56       56     56           56     56   \n",
       "0.0007     14          14     14     14       14     14           14     14   \n",
       "0.0008     28          28     28     28       28     28           28     28   \n",
       "0.0013     14          14     14     14       14     14           14     14   \n",
       "...       ...         ...    ...    ...      ...    ...          ...    ...   \n",
       "0.7247     69          69     69     69       69     69           69     69   \n",
       "0.7505     69          69     69     69       69     69           69     69   \n",
       "0.7625     69          69     69     69       69     69           69     69   \n",
       "0.7753     69          69     69     69       69     69           69     69   \n",
       "0.7807     69          69     69     69       69     69           69     69   \n",
       "\n",
       "        clouds  pressure  time_stamp  humidity   wind  \n",
       "rain                                                   \n",
       "0.0000   41964     41964       41964     41964  41964  \n",
       "0.0006      56        56          56        56     56  \n",
       "0.0007      14        14          14        14     14  \n",
       "0.0008      28        28          28        28     28  \n",
       "0.0013      14        14          14        14     14  \n",
       "...        ...       ...         ...       ...    ...  \n",
       "0.7247      69        69          69        69     69  \n",
       "0.7505      69        69          69        69     69  \n",
       "0.7625      69        69          69        69     69  \n",
       "0.7753      69        69          69        69     69  \n",
       "0.7807      69        69          69        69     69  \n",
       "\n",
       "[83 rows x 19 columns]"
      ]
     },
     "execution_count": 1153,
     "metadata": {},
     "output_type": "execute_result"
    }
   ],
   "source": [
    "mx=merged_data.groupby([\"rain\"]).count() # show the count of rain\n",
    "mx"
   ]
  },
  {
   "cell_type": "markdown",
   "id": "7f339cb0",
   "metadata": {},
   "source": [
    "## Count of Ride  Day  "
   ]
  },
  {
   "cell_type": "code",
   "execution_count": 1154,
   "id": "3cb1b803",
   "metadata": {},
   "outputs": [
    {
     "data": {
      "image/png": "[encoded data removed]",
      "text/plain": [
       "<Figure size 720x432 with 1 Axes>"
      ]
     },
     "metadata": {
      "needs_background": "light"
     },
     "output_type": "display_data"
    }
   ],
   "source": [
    "plt.figure(figsize=(10, 6))\n",
    "sns.countplot(x=\"weekday\", data=merged_data).set_title(\"count of ride - Day \");"
   ]
  },
  {
   "cell_type": "markdown",
   "id": "3400b294",
   "metadata": {},
   "source": [
    "- From above we can conclude that on sunday  have less trips, and on  wednesday have most trips followed by Thursday, Monday, Tuesday, Saturday, and Friday."
   ]
  },
  {
   "cell_type": "markdown",
   "id": "1b73b8d2",
   "metadata": {},
   "source": [
    "## Count of Ride  Time of day"
   ]
  },
  {
   "cell_type": "code",
   "execution_count": 1155,
   "id": "2e8938bf",
   "metadata": {},
   "outputs": [
    {
     "data": {
      "image/png": "[encoded data removed]",
      "text/plain": [
       "<Figure size 720x432 with 1 Axes>"
      ]
     },
     "metadata": {
      "needs_background": "light"
     },
     "output_type": "display_data"
    }
   ],
   "source": [
    "plt.figure(figsize=(10, 6))\n",
    "sns.countplot(x=\"time_of_day\", data=merged_data).set_title(\"Time of Day \");"
   ]
  },
  {
   "cell_type": "markdown",
   "id": "41aa18cc",
   "metadata": {},
   "source": [
    "- most of rides timing happens the most during night time."
   ]
  },
  {
   "cell_type": "code",
   "execution_count": 1157,
   "id": "374228f2",
   "metadata": {},
   "outputs": [
    {
     "data": {
      "image/png": "[encoded data removed]",
      "text/plain": [
       "<Figure size 1440x576 with 1 Axes>"
      ]
     },
     "metadata": {
      "needs_background": "light"
     },
     "output_type": "display_data"
    }
   ],
   "source": [
    "plt.figure(figsize=(20,8))\n",
    "plt.title('The most ride-price',fontsize = 20)\n",
    "merged_data['price'].value_counts().plot(kind='bar');\n"
   ]
  },
  {
   "cell_type": "markdown",
   "id": "677432c6",
   "metadata": {},
   "source": [
    "- The most rides  was  at 13.5 dollar"
   ]
  },
  {
   "cell_type": "markdown",
   "id": "91c72082",
   "metadata": {},
   "source": [
    "# Modeling the dataset"
   ]
  },
  {
   "cell_type": "markdown",
   "id": "112d9ee9",
   "metadata": {},
   "source": [
    "##  Features Correlation  "
   ]
  },
  {
   "cell_type": "markdown",
   "id": "ab2f6d6f",
   "metadata": {},
   "source": [
    "- Used to describe  how data sets related to each another\n",
    "- Prositive or negative correlation \n",
    "- Strong correlation 0.6 - 1\n",
    "- Moderate correlation0.6 - 0.3 \n",
    "- weak correlation 0.3 - 0.1\n",
    "- No correlation   less than 0.1- 0\n"
   ]
  },
  {
   "cell_type": "code",
   "execution_count": 1158,
   "id": "63ed5bbf",
   "metadata": {},
   "outputs": [
    {
     "data": {
      "text/html": [
       "<div>\n",
       "<style scoped>\n",
       "    .dataframe tbody tr th:only-of-type {\n",
       "        vertical-align: middle;\n",
       "    }\n",
       "\n",
       "    .dataframe tbody tr th {\n",
       "        vertical-align: top;\n",
       "    }\n",
       "\n",
       "    .dataframe thead th {\n",
       "        text-align: right;\n",
       "    }\n",
       "</style>\n",
       "<table border=\"1\" class=\"dataframe\">\n",
       "  <thead>\n",
       "    <tr style=\"text-align: right;\">\n",
       "      <th></th>\n",
       "      <th>distance</th>\n",
       "      <th>price</th>\n",
       "      <th>surge_multiplier</th>\n",
       "      <th>time_stamp</th>\n",
       "      <th>hour</th>\n",
       "      <th>temp</th>\n",
       "      <th>clouds</th>\n",
       "      <th>pressure</th>\n",
       "      <th>rain</th>\n",
       "      <th>time_stamp</th>\n",
       "      <th>humidity</th>\n",
       "      <th>wind</th>\n",
       "    </tr>\n",
       "  </thead>\n",
       "  <tbody>\n",
       "    <tr>\n",
       "      <th>distance</th>\n",
       "      <td>1.000000</td>\n",
       "      <td>0.350735</td>\n",
       "      <td>0.059049</td>\n",
       "      <td>0.025462</td>\n",
       "      <td>-0.011944</td>\n",
       "      <td>-0.021419</td>\n",
       "      <td>-0.017395</td>\n",
       "      <td>-0.012008</td>\n",
       "      <td>-0.021597</td>\n",
       "      <td>0.025462</td>\n",
       "      <td>-0.015284</td>\n",
       "      <td>0.011962</td>\n",
       "    </tr>\n",
       "    <tr>\n",
       "      <th>price</th>\n",
       "      <td>0.350735</td>\n",
       "      <td>1.000000</td>\n",
       "      <td>0.301803</td>\n",
       "      <td>0.012400</td>\n",
       "      <td>0.011756</td>\n",
       "      <td>0.016335</td>\n",
       "      <td>0.017725</td>\n",
       "      <td>0.008833</td>\n",
       "      <td>-0.015292</td>\n",
       "      <td>0.012400</td>\n",
       "      <td>-0.006544</td>\n",
       "      <td>-0.004909</td>\n",
       "    </tr>\n",
       "    <tr>\n",
       "      <th>surge_multiplier</th>\n",
       "      <td>0.059049</td>\n",
       "      <td>0.301803</td>\n",
       "      <td>1.000000</td>\n",
       "      <td>0.009324</td>\n",
       "      <td>-0.016252</td>\n",
       "      <td>-0.013516</td>\n",
       "      <td>-0.022673</td>\n",
       "      <td>0.021279</td>\n",
       "      <td>-0.027652</td>\n",
       "      <td>0.009324</td>\n",
       "      <td>0.014342</td>\n",
       "      <td>-0.015495</td>\n",
       "    </tr>\n",
       "    <tr>\n",
       "      <th>time_stamp</th>\n",
       "      <td>0.025462</td>\n",
       "      <td>0.012400</td>\n",
       "      <td>0.009324</td>\n",
       "      <td>1.000000</td>\n",
       "      <td>0.004251</td>\n",
       "      <td>-0.268449</td>\n",
       "      <td>-0.269441</td>\n",
       "      <td>-0.344328</td>\n",
       "      <td>-0.147605</td>\n",
       "      <td>1.000000</td>\n",
       "      <td>-0.538368</td>\n",
       "      <td>0.356263</td>\n",
       "    </tr>\n",
       "    <tr>\n",
       "      <th>hour</th>\n",
       "      <td>-0.011944</td>\n",
       "      <td>0.011756</td>\n",
       "      <td>-0.016252</td>\n",
       "      <td>0.004251</td>\n",
       "      <td>1.000000</td>\n",
       "      <td>-0.017642</td>\n",
       "      <td>-0.053203</td>\n",
       "      <td>-0.195157</td>\n",
       "      <td>-0.173934</td>\n",
       "      <td>0.004251</td>\n",
       "      <td>-0.119445</td>\n",
       "      <td>-0.192328</td>\n",
       "    </tr>\n",
       "    <tr>\n",
       "      <th>temp</th>\n",
       "      <td>-0.021419</td>\n",
       "      <td>0.016335</td>\n",
       "      <td>-0.013516</td>\n",
       "      <td>-0.268449</td>\n",
       "      <td>-0.017642</td>\n",
       "      <td>1.000000</td>\n",
       "      <td>0.714205</td>\n",
       "      <td>0.493710</td>\n",
       "      <td>0.274793</td>\n",
       "      <td>-0.268449</td>\n",
       "      <td>0.069459</td>\n",
       "      <td>0.135158</td>\n",
       "    </tr>\n",
       "    <tr>\n",
       "      <th>clouds</th>\n",
       "      <td>-0.017395</td>\n",
       "      <td>0.017725</td>\n",
       "      <td>-0.022673</td>\n",
       "      <td>-0.269441</td>\n",
       "      <td>-0.053203</td>\n",
       "      <td>0.714205</td>\n",
       "      <td>1.000000</td>\n",
       "      <td>0.494288</td>\n",
       "      <td>0.195056</td>\n",
       "      <td>-0.269441</td>\n",
       "      <td>0.121799</td>\n",
       "      <td>-0.022607</td>\n",
       "    </tr>\n",
       "    <tr>\n",
       "      <th>pressure</th>\n",
       "      <td>-0.012008</td>\n",
       "      <td>0.008833</td>\n",
       "      <td>0.021279</td>\n",
       "      <td>-0.344328</td>\n",
       "      <td>-0.195157</td>\n",
       "      <td>0.493710</td>\n",
       "      <td>0.494288</td>\n",
       "      <td>1.000000</td>\n",
       "      <td>0.130452</td>\n",
       "      <td>-0.344328</td>\n",
       "      <td>0.648307</td>\n",
       "      <td>-0.526527</td>\n",
       "    </tr>\n",
       "    <tr>\n",
       "      <th>rain</th>\n",
       "      <td>-0.021597</td>\n",
       "      <td>-0.015292</td>\n",
       "      <td>-0.027652</td>\n",
       "      <td>-0.147605</td>\n",
       "      <td>-0.173934</td>\n",
       "      <td>0.274793</td>\n",
       "      <td>0.195056</td>\n",
       "      <td>0.130452</td>\n",
       "      <td>1.000000</td>\n",
       "      <td>-0.147605</td>\n",
       "      <td>0.255006</td>\n",
       "      <td>0.256211</td>\n",
       "    </tr>\n",
       "    <tr>\n",
       "      <th>time_stamp</th>\n",
       "      <td>0.025462</td>\n",
       "      <td>0.012400</td>\n",
       "      <td>0.009324</td>\n",
       "      <td>1.000000</td>\n",
       "      <td>0.004251</td>\n",
       "      <td>-0.268449</td>\n",
       "      <td>-0.269441</td>\n",
       "      <td>-0.344328</td>\n",
       "      <td>-0.147605</td>\n",
       "      <td>1.000000</td>\n",
       "      <td>-0.538368</td>\n",
       "      <td>0.356263</td>\n",
       "    </tr>\n",
       "    <tr>\n",
       "      <th>humidity</th>\n",
       "      <td>-0.015284</td>\n",
       "      <td>-0.006544</td>\n",
       "      <td>0.014342</td>\n",
       "      <td>-0.538368</td>\n",
       "      <td>-0.119445</td>\n",
       "      <td>0.069459</td>\n",
       "      <td>0.121799</td>\n",
       "      <td>0.648307</td>\n",
       "      <td>0.255006</td>\n",
       "      <td>-0.538368</td>\n",
       "      <td>1.000000</td>\n",
       "      <td>-0.652771</td>\n",
       "    </tr>\n",
       "    <tr>\n",
       "      <th>wind</th>\n",
       "      <td>0.011962</td>\n",
       "      <td>-0.004909</td>\n",
       "      <td>-0.015495</td>\n",
       "      <td>0.356263</td>\n",
       "      <td>-0.192328</td>\n",
       "      <td>0.135158</td>\n",
       "      <td>-0.022607</td>\n",
       "      <td>-0.526527</td>\n",
       "      <td>0.256211</td>\n",
       "      <td>0.356263</td>\n",
       "      <td>-0.652771</td>\n",
       "      <td>1.000000</td>\n",
       "    </tr>\n",
       "  </tbody>\n",
       "</table>\n",
       "</div>"
      ],
      "text/plain": [
       "                  distance     price  surge_multiplier  time_stamp      hour  \\\n",
       "distance          1.000000  0.350735          0.059049    0.025462 -0.011944   \n",
       "price             0.350735  1.000000          0.301803    0.012400  0.011756   \n",
       "surge_multiplier  0.059049  0.301803          1.000000    0.009324 -0.016252   \n",
       "time_stamp        0.025462  0.012400          0.009324    1.000000  0.004251   \n",
       "hour             -0.011944  0.011756         -0.016252    0.004251  1.000000   \n",
       "temp             -0.021419  0.016335         -0.013516   -0.268449 -0.017642   \n",
       "clouds           -0.017395  0.017725         -0.022673   -0.269441 -0.053203   \n",
       "pressure         -0.012008  0.008833          0.021279   -0.344328 -0.195157   \n",
       "rain             -0.021597 -0.015292         -0.027652   -0.147605 -0.173934   \n",
       "time_stamp        0.025462  0.012400          0.009324    1.000000  0.004251   \n",
       "humidity         -0.015284 -0.006544          0.014342   -0.538368 -0.119445   \n",
       "wind              0.011962 -0.004909         -0.015495    0.356263 -0.192328   \n",
       "\n",
       "                      temp    clouds  pressure      rain  time_stamp  \\\n",
       "distance         -0.021419 -0.017395 -0.012008 -0.021597    0.025462   \n",
       "price             0.016335  0.017725  0.008833 -0.015292    0.012400   \n",
       "surge_multiplier -0.013516 -0.022673  0.021279 -0.027652    0.009324   \n",
       "time_stamp       -0.268449 -0.269441 -0.344328 -0.147605    1.000000   \n",
       "hour             -0.017642 -0.053203 -0.195157 -0.173934    0.004251   \n",
       "temp              1.000000  0.714205  0.493710  0.274793   -0.268449   \n",
       "clouds            0.714205  1.000000  0.494288  0.195056   -0.269441   \n",
       "pressure          0.493710  0.494288  1.000000  0.130452   -0.344328   \n",
       "rain              0.274793  0.195056  0.130452  1.000000   -0.147605   \n",
       "time_stamp       -0.268449 -0.269441 -0.344328 -0.147605    1.000000   \n",
       "humidity          0.069459  0.121799  0.648307  0.255006   -0.538368   \n",
       "wind              0.135158 -0.022607 -0.526527  0.256211    0.356263   \n",
       "\n",
       "                  humidity      wind  \n",
       "distance         -0.015284  0.011962  \n",
       "price            -0.006544 -0.004909  \n",
       "surge_multiplier  0.014342 -0.015495  \n",
       "time_stamp       -0.538368  0.356263  \n",
       "hour             -0.119445 -0.192328  \n",
       "temp              0.069459  0.135158  \n",
       "clouds            0.121799 -0.022607  \n",
       "pressure          0.648307 -0.526527  \n",
       "rain              0.255006  0.256211  \n",
       "time_stamp       -0.538368  0.356263  \n",
       "humidity          1.000000 -0.652771  \n",
       "wind             -0.652771  1.000000  "
      ]
     },
     "execution_count": 1158,
     "metadata": {},
     "output_type": "execute_result"
    }
   ],
   "source": [
    "merged_data.corr()"
   ]
  },
  {
   "cell_type": "markdown",
   "id": "323c84f3",
   "metadata": {},
   "source": [
    "## 1.Feature selection"
   ]
  },
  {
   "cell_type": "code",
   "execution_count": 1159,
   "id": "4a77d10d",
   "metadata": {},
   "outputs": [
    {
     "data": {
      "text/plain": [
       "distance            0.350735\n",
       "price               1.000000\n",
       "surge_multiplier    0.301803\n",
       "time_stamp          0.012400\n",
       "hour                0.011756\n",
       "temp                0.016335\n",
       "clouds              0.017725\n",
       "pressure            0.008833\n",
       "rain               -0.015292\n",
       "time_stamp          0.012400\n",
       "humidity           -0.006544\n",
       "wind               -0.004909\n",
       "Name: price, dtype: float64"
      ]
     },
     "execution_count": 1159,
     "metadata": {},
     "output_type": "execute_result"
    }
   ],
   "source": [
    "ss=merged_data.corr()['price']\n",
    "ss"
   ]
  },
  {
   "cell_type": "markdown",
   "id": "02862688",
   "metadata": {},
   "source": [
    "- Features distance, surge_multiplier are higher moderate positive correlation with price\n",
    "- Feature price  is the predict target by using Linear Regression"
   ]
  },
  {
   "cell_type": "markdown",
   "id": "af21a89b",
   "metadata": {},
   "source": [
    "## 2.Training and Testing Data\n"
   ]
  },
  {
   "cell_type": "markdown",
   "id": "287e8f84",
   "metadata": {},
   "source": [
    "- Split the dataset into two pieces: a training set and a testing set\n",
    "- Train the model on the training set.\n",
    "- Test the model on the testing set"
   ]
  },
  {
   "cell_type": "code",
   "execution_count": 1160,
   "id": "dee4845f",
   "metadata": {
    "scrolled": true
   },
   "outputs": [],
   "source": [
    "X=merged_data[['distance','surge_multiplier']] #seleced feature\n",
    "y=merged_data['price'] #Target feature"
   ]
  },
  {
   "cell_type": "code",
   "execution_count": 1161,
   "id": "e32bf7c8",
   "metadata": {},
   "outputs": [],
   "source": [
    "X_train, X_test, y_train, y_test = train_test_split(X, y, test_size=0.3, random_state=101)"
   ]
  },
  {
   "cell_type": "code",
   "execution_count": 1162,
   "id": "a6ff9aea",
   "metadata": {},
   "outputs": [],
   "source": [
    "from sklearn.linear_model import LinearRegression"
   ]
  },
  {
   "cell_type": "markdown",
   "id": "988c8596",
   "metadata": {},
   "source": [
    "## 3.Training the Model\n"
   ]
  },
  {
   "cell_type": "markdown",
   "id": "3e890a55",
   "metadata": {},
   "source": [
    "- Linear Regression"
   ]
  },
  {
   "cell_type": "code",
   "execution_count": 1163,
   "id": "8b26865f",
   "metadata": {},
   "outputs": [
    {
     "data": {
      "text/plain": [
       "LinearRegression()"
      ]
     },
     "execution_count": 1163,
     "metadata": {},
     "output_type": "execute_result"
    }
   ],
   "source": [
    "lm = LinearRegression()\n",
    "lm"
   ]
  },
  {
   "cell_type": "code",
   "execution_count": 1164,
   "id": "1e2b16df",
   "metadata": {},
   "outputs": [
    {
     "data": {
      "text/plain": [
       "LinearRegression()"
      ]
     },
     "execution_count": 1164,
     "metadata": {},
     "output_type": "execute_result"
    }
   ],
   "source": [
    "lm.fit(X_train,y_train) # create Linear Regression"
   ]
  },
  {
   "cell_type": "code",
   "execution_count": 1165,
   "id": "c34671b6",
   "metadata": {},
   "outputs": [
    {
     "name": "stdout",
     "output_type": "stream",
     "text": [
      "Coefficients: \n",
      " [ 2.68064607 25.33755591]\n"
     ]
    }
   ],
   "source": [
    "# The coefficients\n",
    "print('Coefficients: \\n', lm.coef_)"
   ]
  },
  {
   "cell_type": "code",
   "execution_count": 1166,
   "id": "19e112c3",
   "metadata": {},
   "outputs": [
    {
     "data": {
      "text/plain": [
       "-15.217738019701748"
      ]
     },
     "execution_count": 1166,
     "metadata": {},
     "output_type": "execute_result"
    }
   ],
   "source": [
    "lm.intercept_"
   ]
  },
  {
   "cell_type": "code",
   "execution_count": 1167,
   "id": "2cff7460",
   "metadata": {},
   "outputs": [
    {
     "data": {
      "text/plain": [
       "0.20180843732739118"
      ]
     },
     "execution_count": 1167,
     "metadata": {},
     "output_type": "execute_result"
    }
   ],
   "source": [
    "lm.score(X_train,y_train) #show the train score"
   ]
  },
  {
   "cell_type": "code",
   "execution_count": 1168,
   "id": "0f1e3b55",
   "metadata": {},
   "outputs": [],
   "source": [
    "predictions = lm.predict( X_test) # predicting test data"
   ]
  },
  {
   "cell_type": "code",
   "execution_count": 1169,
   "id": "79dc0cec",
   "metadata": {
    "scrolled": true
   },
   "outputs": [
    {
     "data": {
      "text/plain": [
       "Text(0, 0.5, 'Predicted Y')"
      ]
     },
     "execution_count": 1169,
     "metadata": {},
     "output_type": "execute_result"
    },
    {
     "data": {
      "image/png": "[encoded data removed]",
      "text/plain": [
       "<Figure size 432x288 with 1 Axes>"
      ]
     },
     "metadata": {
      "needs_background": "light"
     },
     "output_type": "display_data"
    }
   ],
   "source": [
    "plt.scatter(y_test,predictions)\n",
    "plt.xlabel('Y Test')\n",
    "plt.ylabel('Predicted Y')"
   ]
  },
  {
   "cell_type": "code",
   "execution_count": 1170,
   "id": "c9d6e803",
   "metadata": {},
   "outputs": [],
   "source": [
    "#sns.lmplot(x='price',y='distance',data=merged_data)"
   ]
  },
  {
   "cell_type": "markdown",
   "id": "3a03f6a2",
   "metadata": {},
   "source": [
    "### Evaluating the Model"
   ]
  },
  {
   "cell_type": "code",
   "execution_count": 1171,
   "id": "03f17293",
   "metadata": {},
   "outputs": [
    {
     "data": {
      "text/plain": [
       "0.20328585604895677"
      ]
     },
     "execution_count": 1171,
     "metadata": {},
     "output_type": "execute_result"
    }
   ],
   "source": [
    "from sklearn.metrics import r2_score\n",
    "r2_score(y_test,predictions) #show the test score"
   ]
  },
  {
   "cell_type": "markdown",
   "id": "b46606e4",
   "metadata": {},
   "source": [
    "##  4.Residuals\n"
   ]
  },
  {
   "cell_type": "code",
   "execution_count": 1173,
   "id": "11165f12",
   "metadata": {},
   "outputs": [
    {
     "name": "stderr",
     "output_type": "stream",
     "text": [
      "/opt/anaconda3/lib/python3.9/site-packages/seaborn/distributions.py:2619: FutureWarning: `distplot` is a deprecated function and will be removed in a future version. Please adapt your code to use either `displot` (a figure-level function with similar flexibility) or `histplot` (an axes-level function for histograms).\n",
      "  warnings.warn(msg, FutureWarning)\n"
     ]
    },
    {
     "data": {
      "image/png": "[encoded data removed]",
      "text/plain": [
       "<Figure size 432x288 with 1 Axes>"
      ]
     },
     "metadata": {
      "needs_background": "light"
     },
     "output_type": "display_data"
    }
   ],
   "source": [
    "sns.distplot((y_test-predictions),bins=50);"
   ]
  },
  {
   "cell_type": "markdown",
   "id": "81d9c6c2",
   "metadata": {},
   "source": [
    "# Conclusion\n"
   ]
  },
  {
   "cell_type": "code",
   "execution_count": 1174,
   "id": "2aab8f7e",
   "metadata": {},
   "outputs": [
    {
     "data": {
      "text/html": [
       "<div>\n",
       "<style scoped>\n",
       "    .dataframe tbody tr th:only-of-type {\n",
       "        vertical-align: middle;\n",
       "    }\n",
       "\n",
       "    .dataframe tbody tr th {\n",
       "        vertical-align: top;\n",
       "    }\n",
       "\n",
       "    .dataframe thead th {\n",
       "        text-align: right;\n",
       "    }\n",
       "</style>\n",
       "<table border=\"1\" class=\"dataframe\">\n",
       "  <thead>\n",
       "    <tr style=\"text-align: right;\">\n",
       "      <th></th>\n",
       "      <th>Coeffecient</th>\n",
       "    </tr>\n",
       "  </thead>\n",
       "  <tbody>\n",
       "    <tr>\n",
       "      <th>distance</th>\n",
       "      <td>2.680646</td>\n",
       "    </tr>\n",
       "    <tr>\n",
       "      <th>surge_multiplier</th>\n",
       "      <td>25.337556</td>\n",
       "    </tr>\n",
       "  </tbody>\n",
       "</table>\n",
       "</div>"
      ],
      "text/plain": [
       "                  Coeffecient\n",
       "distance             2.680646\n",
       "surge_multiplier    25.337556"
      ]
     },
     "execution_count": 1174,
     "metadata": {},
     "output_type": "execute_result"
    }
   ],
   "source": [
    "coeffecients = pd.DataFrame(lm.coef_,X.columns)\n",
    "coeffecients.columns = ['Coeffecient']\n",
    "coeffecients"
   ]
  },
  {
   "cell_type": "code",
   "execution_count": 1175,
   "id": "b5446395",
   "metadata": {},
   "outputs": [
    {
     "data": {
      "text/html": [
       "<div>\n",
       "<style scoped>\n",
       "    .dataframe tbody tr th:only-of-type {\n",
       "        vertical-align: middle;\n",
       "    }\n",
       "\n",
       "    .dataframe tbody tr th {\n",
       "        vertical-align: top;\n",
       "    }\n",
       "\n",
       "    .dataframe thead th {\n",
       "        text-align: right;\n",
       "    }\n",
       "</style>\n",
       "<table border=\"1\" class=\"dataframe\">\n",
       "  <thead>\n",
       "    <tr style=\"text-align: right;\">\n",
       "      <th></th>\n",
       "      <th>Actual</th>\n",
       "      <th>predicted</th>\n",
       "    </tr>\n",
       "  </thead>\n",
       "  <tbody>\n",
       "    <tr>\n",
       "      <th>41818</th>\n",
       "      <td>19.5</td>\n",
       "      <td>14.730529</td>\n",
       "    </tr>\n",
       "    <tr>\n",
       "      <th>14830</th>\n",
       "      <td>13.5</td>\n",
       "      <td>14.140787</td>\n",
       "    </tr>\n",
       "    <tr>\n",
       "      <th>13359</th>\n",
       "      <td>16.5</td>\n",
       "      <td>17.786466</td>\n",
       "    </tr>\n",
       "    <tr>\n",
       "      <th>744</th>\n",
       "      <td>27.5</td>\n",
       "      <td>13.095335</td>\n",
       "    </tr>\n",
       "    <tr>\n",
       "      <th>20642</th>\n",
       "      <td>19.5</td>\n",
       "      <td>18.000917</td>\n",
       "    </tr>\n",
       "    <tr>\n",
       "      <th>...</th>\n",
       "      <td>...</td>\n",
       "      <td>...</td>\n",
       "    </tr>\n",
       "    <tr>\n",
       "      <th>18843</th>\n",
       "      <td>14.0</td>\n",
       "      <td>14.301626</td>\n",
       "    </tr>\n",
       "    <tr>\n",
       "      <th>2068</th>\n",
       "      <td>10.5</td>\n",
       "      <td>11.620980</td>\n",
       "    </tr>\n",
       "    <tr>\n",
       "      <th>33782</th>\n",
       "      <td>10.5</td>\n",
       "      <td>12.773657</td>\n",
       "    </tr>\n",
       "    <tr>\n",
       "      <th>830</th>\n",
       "      <td>26.0</td>\n",
       "      <td>14.810949</td>\n",
       "    </tr>\n",
       "    <tr>\n",
       "      <th>10674</th>\n",
       "      <td>12.5</td>\n",
       "      <td>13.899529</td>\n",
       "    </tr>\n",
       "  </tbody>\n",
       "</table>\n",
       "<p>13944 rows × 2 columns</p>\n",
       "</div>"
      ],
      "text/plain": [
       "       Actual  predicted\n",
       "41818    19.5  14.730529\n",
       "14830    13.5  14.140787\n",
       "13359    16.5  17.786466\n",
       "744      27.5  13.095335\n",
       "20642    19.5  18.000917\n",
       "...       ...        ...\n",
       "18843    14.0  14.301626\n",
       "2068     10.5  11.620980\n",
       "33782    10.5  12.773657\n",
       "830      26.0  14.810949\n",
       "10674    12.5  13.899529\n",
       "\n",
       "[13944 rows x 2 columns]"
      ]
     },
     "execution_count": 1175,
     "metadata": {},
     "output_type": "execute_result"
    }
   ],
   "source": [
    "df=pd.DataFrame({'Actual': y_test,'predicted':predictions})\n",
    "df"
   ]
  },
  {
   "cell_type": "code",
   "execution_count": 1176,
   "id": "96160b06",
   "metadata": {},
   "outputs": [
    {
     "data": {
      "image/png": "[encoded data removed]",
      "text/plain": [
       "<Figure size 1872x720 with 1 Axes>"
      ]
     },
     "metadata": {
      "needs_background": "light"
     },
     "output_type": "display_data"
    }
   ],
   "source": [
    "df1 = df.head(25)\n",
    "df1.plot(kind='bar',figsize=(26,10))\n",
    "plt.grid(which='major', linestyle='-', linewidth='0.5', color='green')\n",
    "plt.grid(which='minor', linestyle=':', linewidth='0.5', color='black')\n",
    "plt.show()"
   ]
  },
  {
   "cell_type": "markdown",
   "id": "9f8cf5b7",
   "metadata": {},
   "source": [
    "## Conclusion\n",
    "- The model work very well but is not the best. There is a convergence between reality and prediction\n",
    "- People avoid taking rides when it rains.\n",
    "\n",
    "- When traveling long distances, the price does not increase linearly. However, based on the time and demand, a surge can affect the cost.\n",
    "\n",
    "- Uber can be the first choice for long distances."
   ]
  },
  {
   "cell_type": "code",
   "execution_count": null,
   "id": "91aa7cd9",
   "metadata": {},
   "outputs": [],
   "source": []
  }
 ],
 "metadata": {
  "kernelspec": {
   "display_name": "Python 3 (ipykernel)",
   "language": "python",
   "name": "python3"
  },
  "language_info": {
   "codemirror_mode": {
    "name": "ipython",
    "version": 3
   },
   "file_extension": ".py",
   "mimetype": "text/x-python",
   "name": "python",
   "nbconvert_exporter": "python",
   "pygments_lexer": "ipython3",
   "version": "3.9.7"
  }
 },
 "nbformat": 4,
 "nbformat_minor": 5
}
